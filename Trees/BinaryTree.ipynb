{
 "cells": [
  {
   "cell_type": "markdown",
   "metadata": {},
   "source": [
    "# Binary Tree Basics\n"
   ]
  },
  {
   "cell_type": "markdown",
   "metadata": {},
   "source": [
    "## Helper\n"
   ]
  },
  {
   "cell_type": "markdown",
   "metadata": {},
   "source": [
    "### Linked List Node\n"
   ]
  },
  {
   "cell_type": "code",
   "execution_count": 207,
   "metadata": {},
   "outputs": [],
   "source": [
    "class LinkedListNode:\n",
    "    def __init__(self, value = None):\n",
    "        self.value = value\n",
    "        self.next = None\n",
    "    \n",
    "    def __str__(self):\n",
    "        return str(self.value)"
   ]
  },
  {
   "cell_type": "markdown",
   "metadata": {},
   "source": [
    "### Linked List\n"
   ]
  },
  {
   "cell_type": "code",
   "execution_count": 208,
   "metadata": {},
   "outputs": [],
   "source": [
    "class LinkedList:\n",
    "    def __init__(self):\n",
    "        self.head = None\n",
    "        self.tail = None"
   ]
  },
  {
   "cell_type": "markdown",
   "metadata": {},
   "source": [
    "### Queue\n"
   ]
  },
  {
   "cell_type": "code",
   "execution_count": 209,
   "metadata": {},
   "outputs": [],
   "source": [
    "class Queue:\n",
    "    def __init__(self):\n",
    "        self.linkedList = LinkedList()\n",
    "    \n",
    "    def enqueue(self, value):\n",
    "        new_node = LinkedListNode(value = value)\n",
    "        if self.isEmpty():\n",
    "            self.linkedList.head = new_node\n",
    "            self.linkedList.tail = new_node\n",
    "        else:\n",
    "            self.linkedList.tail.next = new_node\n",
    "            self.linkedList.tail = new_node\n",
    "    \n",
    "    def dequeue(self):\n",
    "        if self.isEmpty():\n",
    "            return\n",
    "        else:\n",
    "            popped_node_value = self.linkedList.head.value\n",
    "            self.linkedList.head = self.linkedList.head.next\n",
    "            return popped_node_value\n",
    "    \n",
    "    def isEmpty(self) -> bool:\n",
    "        if self.linkedList.head is None:\n",
    "            return True\n",
    "        else:\n",
    "            return False"
   ]
  },
  {
   "cell_type": "markdown",
   "metadata": {},
   "source": [
    "## Using Linked List\n"
   ]
  },
  {
   "cell_type": "markdown",
   "metadata": {},
   "source": [
    "### Tree Node using Linked List\n"
   ]
  },
  {
   "cell_type": "code",
   "execution_count": 210,
   "metadata": {},
   "outputs": [],
   "source": [
    "class LinkedListTreeNode:\n",
    "    def __init__(self, data):\n",
    "        self.data = data\n",
    "        self.leftChild = None\n",
    "        self.rightChild = None"
   ]
  },
  {
   "cell_type": "markdown",
   "metadata": {},
   "source": [
    "### Binary Tree using Linked List\n"
   ]
  },
  {
   "cell_type": "code",
   "execution_count": 211,
   "metadata": {},
   "outputs": [],
   "source": [
    "class LinkedListBinaryTree:\n",
    "    def preOrderTraversal(treeNode: LinkedListTreeNode) -> None:\n",
    "        if not treeNode:\n",
    "            return\n",
    "        print(treeNode.data)\n",
    "        BinaryTree.preOrderTraversal(treeNode = treeNode.leftChild)\n",
    "        BinaryTree.preOrderTraversal(treeNode = treeNode.rightChild)\n",
    "\n",
    "    def inOrderTraversal(treeNode: LinkedListTreeNode) -> None:\n",
    "        if not treeNode:\n",
    "            return\n",
    "        BinaryTree.inOrderTraversal(treeNode = treeNode.leftChild)\n",
    "        print(treeNode.data)\n",
    "        BinaryTree.inOrderTraversal(treeNode = treeNode.rightChild)\n",
    "\n",
    "    def postOrderTraversal(treeNode: LinkedListTreeNode) -> None:\n",
    "        if not treeNode:\n",
    "            return\n",
    "        BinaryTree.postOrderTraversal(treeNode = treeNode.leftChild)\n",
    "        BinaryTree.postOrderTraversal(treeNode = treeNode.rightChild)\n",
    "        print(treeNode.data)\n",
    "\n",
    "    def levelOrderTraversal(treeNode: LinkedListTreeNode) -> None:\n",
    "        if not treeNode:\n",
    "            return\n",
    "        else:\n",
    "            customQueue = Queue()\n",
    "            customQueue.enqueue(value = treeNode)\n",
    "            while not customQueue.isEmpty():\n",
    "                root = customQueue.dequeue()\n",
    "                print(root.data)\n",
    "                if root.leftChild is not None:\n",
    "                    customQueue.enqueue(value = root.leftChild)\n",
    "                if root.rightChild is not None:\n",
    "                    customQueue.enqueue(value = root.rightChild)\n",
    "\n",
    "    def search(tree: LinkedListTreeNode, value) -> bool:\n",
    "        if not tree:\n",
    "            return False\n",
    "        else:\n",
    "            customQueue = Queue()\n",
    "            customQueue.enqueue(value = tree)\n",
    "            while not customQueue.isEmpty():\n",
    "                root = customQueue.dequeue()\n",
    "                if root.data == value:\n",
    "                    return True\n",
    "                if root.leftChild is not None:\n",
    "                    customQueue.enqueue(value = root.leftChild)\n",
    "                if root.rightChild is not None:\n",
    "                    customQueue.enqueue(value = root.rightChild)\n",
    "            return False\n",
    "        \n",
    "    def insert(tree:LinkedListTreeNode, value) -> bool:\n",
    "        new_node = LinkedListTreeNode(data = value)\n",
    "        if not tree:\n",
    "            tree = new_node\n",
    "            return True\n",
    "        else:\n",
    "            customQueue = Queue()\n",
    "            customQueue.enqueue(value = tree)\n",
    "            while not customQueue.isEmpty():\n",
    "                root = customQueue.dequeue()\n",
    "                \n",
    "                if root.leftChild is not None:\n",
    "                    customQueue.enqueue(value = root.leftChild)\n",
    "                else:\n",
    "                    root.leftChild = new_node\n",
    "                    return True\n",
    "\n",
    "                if root.rightChild is not None:\n",
    "                    customQueue.enqueue(value = root.rightChild)\n",
    "                else:\n",
    "                    root.rightChild = new_node\n",
    "                    return True\n",
    "            return False\n",
    "\n",
    "    def deepest(tree: LinkedListTreeNode) -> LinkedListTreeNode | None:\n",
    "        if not tree:\n",
    "            return\n",
    "        else:\n",
    "            customQueue = Queue()\n",
    "            customQueue.enqueue(value = tree)\n",
    "            while not customQueue.isEmpty():\n",
    "                root = customQueue.dequeue()\n",
    "                \n",
    "                if root.leftChild is not None:\n",
    "                    customQueue.enqueue(value = root.leftChild)\n",
    "\n",
    "                if root.rightChild is not None:\n",
    "                    customQueue.enqueue(value = root.rightChild)\n",
    "            deepestNode = root\n",
    "            return deepestNode\n",
    "        \n",
    "    def deleteDeepest(tree: LinkedListTreeNode, deepest_node: LinkedListTreeNode):\n",
    "        if not tree:\n",
    "            return\n",
    "        else:\n",
    "            customQueue = Queue()\n",
    "            customQueue.enqueue(value = tree)\n",
    "            while not customQueue.isEmpty():\n",
    "                root = customQueue.dequeue()\n",
    "\n",
    "                if root is deepest_node:\n",
    "                    root = None\n",
    "                    return\n",
    "                \n",
    "                if root.rightChild is deepest_node:\n",
    "                    root.rightChild = None\n",
    "                    return\n",
    "                \n",
    "                else:\n",
    "                    customQueue.enqueue(value = root.rightChild)\n",
    "                \n",
    "                if root.leftChild is deepest_node:\n",
    "                    root.leftChild = None\n",
    "                    return\n",
    "                \n",
    "                else:\n",
    "                    customQueue.enqueue(value = root.leftChild)\n",
    "\n",
    "    def deleteNode(tree: LinkedListTreeNode, value):\n",
    "        if not tree:\n",
    "            return False\n",
    "        else:\n",
    "            customQueue = Queue()\n",
    "            customQueue.enqueue(value = tree)\n",
    "            while not customQueue.isEmpty():\n",
    "                root = customQueue.dequeue()\n",
    "                if root.data == value:\n",
    "                    deepest_node = LinkedListBinaryTree.deepest(tree = tree)\n",
    "                    deleted_node_value = root.data\n",
    "                    root.data = deepest_node.data\n",
    "                    LinkedListBinaryTree.deleteDeepest(tree = tree, deepest_node = deepest_node)\n",
    "                    return deleted_node_value\n",
    "                \n",
    "                if tree.leftChild is not None:\n",
    "                    customQueue.enqueue(value = tree.leftChild)\n",
    "                    \n",
    "                if tree.rightChild is not None:\n",
    "                    customQueue.enqueue(value = tree.rightChild)\n",
    "\n",
    "    def deleteTree(tree: LinkedListTreeNode) -> None:\n",
    "        tree.data = None\n",
    "        tree.leftChild = None\n",
    "        tree.rightChild = None"
   ]
  },
  {
   "cell_type": "markdown",
   "metadata": {},
   "source": [
    "## Using Python List\n"
   ]
  },
  {
   "cell_type": "markdown",
   "metadata": {},
   "source": [
    "### Binary Tree Class\n"
   ]
  },
  {
   "cell_type": "code",
   "execution_count": 212,
   "metadata": {},
   "outputs": [],
   "source": [
    "class ListBinaryTree:\n",
    "    def __init__(self, max_size: int):\n",
    "        self.customList = (max_size + 1) * [None]\n",
    "        self.lastUsedIndex = 0\n",
    "        self.max_size = max_size + 1\n",
    "    \n",
    "    def insertNode(self, value) -> bool:\n",
    "        if self.lastUsedIndex + 1 == self.max_size:\n",
    "            return False\n",
    "        self.customList[self.lastUsedIndex + 1] = value\n",
    "        self.lastUsedIndex += 1\n",
    "        return True\n",
    "\n",
    "    def searchNode(self, value) -> bool:\n",
    "        for _ in range(len(self.customList)):\n",
    "            if self.customList[_] == value:\n",
    "                return True\n",
    "        return False\n",
    "    \n",
    "    def preOrder(self, index: int) -> None:\n",
    "        if index > self.lastUsedIndex:\n",
    "            return\n",
    "        print(self.customList[index], end = \" \")\n",
    "        self.preOrder(index = index * 2)\n",
    "        self.preOrder(index = index * 2 + 1)\n",
    "    \n",
    "    def inOrder(self, index: int) -> None:\n",
    "        if index > self.lastUsedIndex:\n",
    "            return\n",
    "        self.inOrder(index = index * 2)\n",
    "        print(self.customList[index])\n",
    "        self.inOrder(index = index * 2 + 1)\n",
    "    \n",
    "    def postOrder(self, index: int) -> None:\n",
    "        if index > self.lastUsedIndex:\n",
    "            return\n",
    "        self.postOrder(index = index * 2)\n",
    "        self.postOrder(index = index * 2 + 1)\n",
    "        print(self.customList[index])\n",
    "\n",
    "    def levelOrder(self) -> None:\n",
    "        for _ in range(1, self.lastUsedIndex + 1):\n",
    "            print(self.customList[_])\n",
    "    \n",
    "    def deleteNode(self, value) -> bool:\n",
    "        if self.lastUsedIndex == 0:\n",
    "            return False\n",
    "        for _ in range(1, self.lastUsedIndex + 1):\n",
    "            if self.customList[_] == value:\n",
    "                self.customList[_] = self.customList[self.lastUsedIndex]\n",
    "                self.customList[self.lastUsedIndex] = None\n",
    "                self.lastUsedIndex -= 1\n",
    "                return True\n",
    "            \n",
    "    def deleteAll(self) -> None:\n",
    "        self.customList = None\n",
    "        self.lastUsedIndex = 0\n",
    "        \n"
   ]
  },
  {
   "cell_type": "markdown",
   "metadata": {},
   "source": [
    "# Main\n"
   ]
  },
  {
   "cell_type": "code",
   "execution_count": 216,
   "metadata": {},
   "outputs": [],
   "source": [
    "if __name__ == '__main__':\n",
    "    \n",
    "    binaryTree = ListBinaryTree(max_size = 9)\n",
    "\n",
    "    binaryTree.insertNode(value = 'N1')\n",
    "    binaryTree.insertNode(value = 'N2')\n",
    "    binaryTree.insertNode(value = 'N3')\n",
    "    binaryTree.insertNode(value = 'N4')\n",
    "    binaryTree.insertNode(value = 'N5')\n",
    "    binaryTree.insertNode(value = 'N6')\n",
    "    binaryTree.insertNode(value = 'N7')\n",
    "    binaryTree.insertNode(value = 'N8')\n",
    "    binaryTree.insertNode(value = 'N9')\n",
    "\n",
    "    binaryTree.deleteAll()\n",
    "    \n",
    "    binaryTree.levelOrder()\n"
   ]
  }
 ],
 "metadata": {
  "kernelspec": {
   "display_name": "Python 3",
   "language": "python",
   "name": "python3"
  },
  "language_info": {
   "codemirror_mode": {
    "name": "ipython",
    "version": 3
   },
   "file_extension": ".py",
   "mimetype": "text/x-python",
   "name": "python",
   "nbconvert_exporter": "python",
   "pygments_lexer": "ipython3",
   "version": "3.12.2"
  }
 },
 "nbformat": 4,
 "nbformat_minor": 2
}
