{
 "cells": [
  {
   "cell_type": "markdown",
   "metadata": {},
   "source": [
    "# Tree Basics\n"
   ]
  },
  {
   "cell_type": "markdown",
   "metadata": {},
   "source": [
    "## Tree Class\n"
   ]
  },
  {
   "cell_type": "code",
   "execution_count": null,
   "metadata": {},
   "outputs": [],
   "source": [
    "class TreeNode:\n",
    "    def __init__(self, data, children = []):\n",
    "        self.data = data\n",
    "        self.children = children\n",
    "    \n",
    "    def __str__(self, level = 0) -> str:\n",
    "        ret = \"\\t\" * level + str(self.data) + \"\\n\"\n",
    "        for child in self.children:\n",
    "            ret += child.__str__(level = level + 1)\n",
    "        return ret\n",
    "    \n",
    "    def addChild(self, tree_node) -> None:\n",
    "        self.children.append(tree_node)"
   ]
  },
  {
   "cell_type": "markdown",
   "metadata": {},
   "source": [
    "# Main\n"
   ]
  },
  {
   "cell_type": "code",
   "execution_count": null,
   "metadata": {},
   "outputs": [],
   "source": [
    "if __name__ == '__main__':\n",
    "\n",
    "    customTree = TreeNode(data = 'Drinks', children = [])\n",
    "\n",
    "    cold = TreeNode(data = 'Cold', children = [])\n",
    "    hot = TreeNode(data = 'Hot', children = [])\n",
    "    \n",
    "    customTree.addChild(tree_node = cold)\n",
    "    customTree.addChild(tree_node = hot)\n",
    "\n",
    "    tea = TreeNode(data = 'Tea', children = [])\n",
    "    coffee = TreeNode(data = 'Coffee', children = [])\n",
    "\n",
    "    hot.addChild(tree_node = tea)\n",
    "    hot.addChild(tree_node = coffee)\n",
    "\n",
    "    cola = TreeNode(data = 'Cola', children = [])\n",
    "    fanta = TreeNode(data = 'Fanta', children = [])\n",
    "\n",
    "    cold.addChild(tree_node = cola)\n",
    "    cold.addChild(tree_node = fanta)\n",
    "\n",
    "    print(customTree)\n"
   ]
  }
 ],
 "metadata": {
  "kernelspec": {
   "display_name": "Python 3",
   "language": "python",
   "name": "python3"
  },
  "language_info": {
   "codemirror_mode": {
    "name": "ipython",
    "version": 3
   },
   "file_extension": ".py",
   "mimetype": "text/x-python",
   "name": "python",
   "nbconvert_exporter": "python",
   "pygments_lexer": "ipython3",
   "version": "3.12.2"
  }
 },
 "nbformat": 4,
 "nbformat_minor": 2
}
