{
 "cells": [
  {
   "cell_type": "markdown",
   "metadata": {},
   "source": [
    "# Trie\n"
   ]
  },
  {
   "cell_type": "markdown",
   "metadata": {},
   "source": [
    "## Helper\n"
   ]
  },
  {
   "cell_type": "markdown",
   "metadata": {},
   "source": [
    "## Trie Node\n"
   ]
  },
  {
   "cell_type": "code",
   "execution_count": 95,
   "metadata": {},
   "outputs": [],
   "source": [
    "class TrieNode:\n",
    "    def __init__(self) -> None:\n",
    "        self.children = {}\n",
    "        self.endOfString = False"
   ]
  },
  {
   "cell_type": "markdown",
   "metadata": {},
   "source": [
    "## Trie\n"
   ]
  },
  {
   "cell_type": "code",
   "execution_count": 96,
   "metadata": {},
   "outputs": [],
   "source": [
    "class Trie:\n",
    "    def __init__(self) -> None:\n",
    "        self.root = TrieNode()\n",
    "    \n",
    "    def insertString(self, word: str) -> bool:\n",
    "        current = self.root\n",
    "        for character in word:\n",
    "            node = current.children.get(character)\n",
    "            if node is None:\n",
    "                node = TrieNode()\n",
    "                current.children.update({character : node})\n",
    "            current = node\n",
    "        current.endOfString = True\n",
    "        return True\n",
    "    \n",
    "    def searchString(self, word: str) -> bool:\n",
    "        currentNode = self.root\n",
    "        for character in word:\n",
    "            node = currentNode.children.get(character)\n",
    "            if node is None:\n",
    "                return False\n",
    "            currentNode = node\n",
    "        \n",
    "        if currentNode.endOfString:\n",
    "            return True\n",
    "        else:\n",
    "            return False\n",
    "    \n",
    "\n",
    "def deleteString(root: TrieNode, word: str, index: int) -> bool:\n",
    "        \n",
    "        character = word[index]\n",
    "        currentNode = root.children.get(character)\n",
    "        canThisNodeBeDeleted = False\n",
    "\n",
    "        if len(currentNode.children) > 1:\n",
    "            deleteString(root = currentNode, word = word, index = index + 1)\n",
    "            return False\n",
    "        if index == len(word) - 1:\n",
    "            if len(currentNode.children) >= 1:\n",
    "                currentNode.endOfString = False\n",
    "                return False\n",
    "            else:\n",
    "                root.children.pop(character)\n",
    "                return True\n",
    "        \n",
    "        if currentNode.endOfString:\n",
    "            deleteString(root = currentNode, word = word, index = index + 1)\n",
    "            return False\n",
    "        \n",
    "        canThisNodeBeDeleted = deleteString(root = currentNode, word = word, index = index + 1)\n",
    "\n",
    "        if canThisNodeBeDeleted:\n",
    "            root.children.pop(character)\n",
    "            return True\n",
    "        else:\n",
    "            return False\n",
    "\n",
    "        "
   ]
  },
  {
   "cell_type": "markdown",
   "metadata": {},
   "source": [
    "# Main\n"
   ]
  },
  {
   "cell_type": "code",
   "execution_count": 97,
   "metadata": {},
   "outputs": [
    {
     "name": "stdout",
     "output_type": "stream",
     "text": [
      "False\n"
     ]
    }
   ],
   "source": [
    "if __name__ == '__main__':\n",
    "    \n",
    "    newTrie = Trie()\n",
    "\n",
    "    newTrie.insertString(word = 'api')\n",
    "    newTrie.insertString(word = 'apis')\n",
    "    newTrie.insertString(word = 'apple')\n",
    "    newTrie.insertString(word = 'ak')\n",
    "\n",
    "    deleteString(root = newTrie.root, word = 'api', index = 0)\n",
    "\n",
    "    print(newTrie.searchString(word = 'api'))"
   ]
  }
 ],
 "metadata": {
  "kernelspec": {
   "display_name": "Python 3",
   "language": "python",
   "name": "python3"
  },
  "language_info": {
   "codemirror_mode": {
    "name": "ipython",
    "version": 3
   },
   "file_extension": ".py",
   "mimetype": "text/x-python",
   "name": "python",
   "nbconvert_exporter": "python",
   "pygments_lexer": "ipython3",
   "version": "3.12.2"
  }
 },
 "nbformat": 4,
 "nbformat_minor": 2
}
