{
 "cells": [
  {
   "cell_type": "markdown",
   "metadata": {},
   "source": [
    "# All Pair Shortest Path\n"
   ]
  },
  {
   "cell_type": "markdown",
   "metadata": {},
   "source": [
    "## Floyd Warshall Algorithm\n"
   ]
  },
  {
   "cell_type": "code",
   "execution_count": null,
   "metadata": {},
   "outputs": [],
   "source": [
    "import math\n",
    "\n",
    "INF = math.inf\n",
    "\n",
    "def print_solution(no_of_vertices: int, distances: list) -> None:\n",
    "    for i in range(no_of_vertices):\n",
    "        for j in range(no_of_vertices):\n",
    "            if distances[i][j] == INF:\n",
    "                print('Inf', end = ' ')\n",
    "            else:\n",
    "                print(distances[i][j], end = ' ')\n",
    "        print(' ')\n",
    "\n",
    "def flyod_warshall(no_of_vertices: int, graph: list) -> None:\n",
    "    distances = graph\n",
    "    for k in range(no_of_vertices):\n",
    "        for i in range(no_of_vertices):\n",
    "            for j in range(no_of_vertices):\n",
    "                distances[i][j] = min(distances[i][j], distances[i][k] + distances[k][j])\n",
    "    \n",
    "    print_solution(no_of_vertices = no_of_vertices, distances = distances)\n"
   ]
  },
  {
   "cell_type": "markdown",
   "metadata": {},
   "source": [
    "# Main\n"
   ]
  },
  {
   "cell_type": "code",
   "execution_count": null,
   "metadata": {},
   "outputs": [],
   "source": [
    "def createGraph() -> list:\n",
    "    graph = [[0,    8,      INF,    1],\n",
    "             [INF,  0,      1,      INF],\n",
    "             [4,    INF,    0,      INF],\n",
    "             [INF,  2,      9,      1]]\n",
    "    \n",
    "    return graph\n",
    "\n",
    "if __name__ == '__main__':\n",
    "    customGraph = createGraph()\n",
    "    flyod_warshall(no_of_vertices = 4, graph = customGraph)"
   ]
  }
 ],
 "metadata": {
  "kernelspec": {
   "display_name": "Python 3",
   "language": "python",
   "name": "python3"
  },
  "language_info": {
   "codemirror_mode": {
    "name": "ipython",
    "version": 3
   },
   "file_extension": ".py",
   "mimetype": "text/x-python",
   "name": "python",
   "nbconvert_exporter": "python",
   "pygments_lexer": "ipython3",
   "version": "3.12.2"
  }
 },
 "nbformat": 4,
 "nbformat_minor": 2
}
