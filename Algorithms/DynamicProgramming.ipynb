{
 "cells": [
  {
   "cell_type": "markdown",
   "metadata": {},
   "source": [
    "# Dynamic Programming\n"
   ]
  },
  {
   "cell_type": "markdown",
   "metadata": {},
   "source": [
    "## Fibonacci Series with memoization\n",
    "\n",
    "    Return the nth number in the fibonacci series.\n"
   ]
  },
  {
   "cell_type": "code",
   "execution_count": null,
   "metadata": {},
   "outputs": [],
   "source": [
    "def fibonacci_memo(number: int, memo: dict) -> int:\n",
    "    if number == 1:\n",
    "        return 0\n",
    "    elif number == 2:\n",
    "        return 1\n",
    "    if number not in memo:\n",
    "        memo[number] = fibonacci_memo(number = number - 1, memo = memo) + fibonacci_memo(number = number - 2, memo = memo)\n",
    "    return memo[number]\n",
    "\n",
    "if __name__ == '__main__':\n",
    "    MEMO = {}\n",
    "    N = 5\n",
    "\n",
    "    print(fibonacci_memo(number = N, memo = MEMO))"
   ]
  },
  {
   "cell_type": "markdown",
   "metadata": {},
   "source": [
    "## Fibonacci Series with tabulation\n",
    "\n",
    "    Return the nth number of the fibonacci series\n"
   ]
  },
  {
   "cell_type": "code",
   "execution_count": null,
   "metadata": {},
   "outputs": [],
   "source": [
    "def fibonacci_table(number: int) -> int:\n",
    "    table = [0, 1]\n",
    "    for _ in range(2, number + 1):\n",
    "        table.append(table[_ - 1] + table[_ - 2])\n",
    "    return table[number - 1]\n",
    "\n",
    "if __name__ == '__main__':\n",
    "    N = 10\n",
    "    print(fibonacci_table(number = N))"
   ]
  },
  {
   "cell_type": "markdown",
   "metadata": {},
   "source": [
    "## Number Factor\n",
    "\n",
    "    Given N, find the number of ways to express N as sum of 1,3 and 4\n"
   ]
  },
  {
   "cell_type": "code",
   "execution_count": null,
   "metadata": {},
   "outputs": [],
   "source": [
    "def number_factor(n: int, memo: dict = {}, method: str = 'TopDown') -> int:\n",
    "    if method == 'TopDown':\n",
    "        if n in (0, 1, 2):\n",
    "            return 1\n",
    "        elif n == 3:\n",
    "            return 2\n",
    "        elif n in memo:\n",
    "            return memo[n]\n",
    "        else:\n",
    "            option1 = number_factor(n = n - 1, memo = memo)\n",
    "            option2 = number_factor(n = n - 3, memo = memo)\n",
    "            option3 = number_factor(n = n - 4, memo = memo)\n",
    "            memo[n] = option1 + option2 + option3\n",
    "            return memo[n]\n",
    "    else:\n",
    "        table = [1 ,1, 1, 2]\n",
    "        for _ in range(4, n + 1):\n",
    "            table.append(table[_ - 1] + table[_ - 3] + table[_ - 4])\n",
    "        return table[n]\n",
    "\n",
    "if __name__ == '__main__':\n",
    "    N = 7\n",
    "    print(number_factor(n = N, method = 'BottomUp'))"
   ]
  },
  {
   "cell_type": "markdown",
   "metadata": {},
   "source": [
    "## House Robber\n",
    "\n",
    "    Given N number of houses with some amount of money, find the maximum amount that can be stolen, checking robber cannot steal from adjacent houses.\n"
   ]
  },
  {
   "cell_type": "code",
   "execution_count": null,
   "metadata": {},
   "outputs": [],
   "source": [
    "def house_robber(houses: list, currentHouse:int = 0, memo: dict = {}, method: str = 'TopDown') -> int:\n",
    "    lenHouses = len(houses)\n",
    "    if method == 'TopDown':\n",
    "        if currentHouse >= lenHouses:\n",
    "            return 0\n",
    "        else:\n",
    "            if currentHouse not in memo:\n",
    "                stealFirst = houses[currentHouse] + house_robber(houses = houses, currentHouse = currentHouse + 2)\n",
    "                skipFirst = house_robber(houses = houses, currentHouse = currentHouse + 1)\n",
    "                memo[currentHouse] = max(stealFirst, skipFirst)\n",
    "            return memo[currentHouse]\n",
    "    else:\n",
    "        table = [0] * (lenHouses + 2)\n",
    "        for _ in range(lenHouses - 1, -1, -1):\n",
    "            table[_] = max(houses[_] + table[_ + 2], table[_ + 1])\n",
    "        return table[0]\n",
    "\n",
    "if __name__ == '__main__':\n",
    "    houses = [6, 7, 1, 30, 8, 2, 4]\n",
    "    print(house_robber(houses = houses, method = 'S'))"
   ]
  },
  {
   "cell_type": "markdown",
   "metadata": {},
   "source": [
    "## Convert String\n",
    "\n",
    "    Given two strings S1 and S2, convert S2 to S1 using delete, insert or replace operations. Find the minimum count of edit operations.\n"
   ]
  },
  {
   "cell_type": "code",
   "execution_count": null,
   "metadata": {},
   "outputs": [],
   "source": [
    "def findMinOperationBU(S1: str, S2: str, tempDict: dict = {}) -> int:\n",
    "    lenS1 = len(S1)\n",
    "    lenS2 = len(S2)\n",
    "\n",
    "    for i1 in range(lenS1 + 1):\n",
    "        dictKey = str(i1) + '0'\n",
    "        tempDict[dictKey] = i1\n",
    "\n",
    "    for i2 in range(lenS2 + 1):\n",
    "        dictKey = '0'+str(i2)\n",
    "        tempDict[dictKey] = i2\n",
    "    \n",
    "    for i1 in range(1, lenS1 + 1):\n",
    "        for i2 in range(1, lenS2 + 1):\n",
    "            if S1[i1 - 1] == S2[i2 - 1]:\n",
    "                dictKey = str(i1) + str(i2)\n",
    "                dictKey1 = str(i1-1) + str(i2-1)\n",
    "                tempDict[dictKey] = tempDict[dictKey1]\n",
    "            else:\n",
    "                dictKey = str(i1) + str(i2)\n",
    "                dictKeyD = str(i1-1) + str(i2)\n",
    "                dictKeyI = str(i1) + str(i2-1)\n",
    "                dictKeyR = str(i1-1) + str(i2-1)\n",
    "                tempDict[dictKey] = 1 + min(tempDict[dictKeyD], min(tempDict[dictKeyI],tempDict[dictKeyR]))\n",
    "\n",
    "    dictKey = str(len(S1)) + str(len(S2))\n",
    "    return tempDict[dictKey]\n",
    "if __name__ == '__main__':\n",
    "    s1 = 'Bottom'\n",
    "    s2 = 'BellBottom'\n",
    "    print(findMinOperationBU(S1 = s1, S2 = s2))"
   ]
  },
  {
   "cell_type": "markdown",
   "metadata": {},
   "source": [
    "## Longest Common Subsequence\n",
    "\n",
    "    Given two strings S1 and S2, find the length of the longest subsequence\n"
   ]
  },
  {
   "cell_type": "code",
   "execution_count": null,
   "metadata": {},
   "outputs": [],
   "source": [
    "def find_longest_common_subsequence(S1: str, S2: str, memo: dict = {}, index1: int = 0, index2 : int = 0,) -> int:\n",
    "    if index1 == len(S1) or index2 == len(S2):\n",
    "        memo[(index1, index2)] = 0\n",
    "        return 0\n",
    "    if (index1, index2) not in memo:\n",
    "        if S1[index1] == S2[index2]:\n",
    "            memo[(index1, index2)] = 1 + find_longest_common_subsequence(S1 = S1, S2 = S2, index1 = index1 + 1, index2 = index2 + 1, memo = memo)\n",
    "            \n",
    "        else:\n",
    "            option1 = find_longest_common_subsequence(S1 = S1, S2 = S2, index1 = index1, index2 = index2 + 1, memo = memo)\n",
    "            option2 = find_longest_common_subsequence(S1 = S1, S2 = S2, index1 = index1 + 1, index2 = index2, memo = memo)\n",
    "            memo[(index1, index2)] = max(option1, option2)\n",
    "            \n",
    "    return memo[(index1, index2)]\n",
    "    \n",
    "if __name__ == '__main__':\n",
    "    str1 = \"ABCBDAB\"\n",
    "    str2 = \"BDCABA\"\n",
    "\n",
    "    lenSub = find_longest_common_subsequence(S1 = str1, S2 = str2)\n",
    "    print(lenSub)"
   ]
  },
  {
   "cell_type": "markdown",
   "metadata": {},
   "source": [
    "## Length of Longest Palindromic Subsequence\n",
    "\n",
    "    Given a sequence, find the length of the longest palindromic subsequence in it using dynamic programming.\n"
   ]
  },
  {
   "cell_type": "code",
   "execution_count": null,
   "metadata": {},
   "outputs": [],
   "source": [
    "def lps(parameter: str, last_index: int, first_index: int = 0, memo: dict = {}) -> int:\n",
    "    lenParameter = len(parameter)\n",
    "    \n",
    "    temp = (first_index, last_index)\n",
    "\n",
    "    if temp not in memo:\n",
    "        if last_index == 0 or first_index == lenParameter or last_index < first_index:\n",
    "            memo[temp] = 0\n",
    "        elif parameter[first_index] == parameter[last_index]:\n",
    "            if first_index == last_index:\n",
    "                memo[temp] = 1\n",
    "            else:\n",
    "                memo[temp] = 2 + lps(parameter = parameter, first_index = first_index + 1, last_index = last_index - 1, memo = memo)\n",
    "        else:\n",
    "            memo[temp] = max(lps(parameter = parameter, first_index = first_index, last_index = last_index - 1, memo = memo),\n",
    "                             lps(parameter = parameter, first_index = first_index + 1, last_index = last_index, memo = memo))\n",
    "    return memo[temp]\n",
    "\n",
    "param = \"ABABCBA\"\n",
    "ans = lps(parameter = param, first_index = 0, last_index = len(param) - 1, memo = {})\n",
    "print(ans)"
   ]
  },
  {
   "cell_type": "markdown",
   "metadata": {},
   "source": [
    "## Maximum Length Chain of Pairs\n",
    "\n",
    "    You are given n pairs of numbers. In every pair, the first number is always smaller than the second number. A pair (c, d) can follow another pair (a, b) if b < c. Chain of pairs can be formed in this fashion. Find the longest chain which can be formed from a given set of pairs.\n"
   ]
  },
  {
   "cell_type": "code",
   "execution_count": null,
   "metadata": {},
   "outputs": [],
   "source": [
    "class Pair(object): \n",
    "    def __init__(self, a, b): \n",
    "        self.a = a \n",
    "        self.b = b \n",
    "  \n",
    " \n",
    "def maxChainLength(arr: list, n: int, memo: dict = {}) -> int:\n",
    "    index = n - 1\n",
    "    if index in memo:\n",
    "        return memo[index]\n",
    "    else:        \n",
    "        if index <= 0:\n",
    "            return 1\n",
    "        else:\n",
    "            if arr[index].a > arr[index - 1].b:\n",
    "                memo[index] = max (1 + maxChainLength(arr = arr, memo = memo, n = n - 1), \n",
    "                        maxChainLength(arr = arr, memo = memo, n = n - 1))\n",
    "            else:\n",
    "                memo[index] = maxChainLength(arr = arr, memo = memo, n = n - 1)\n",
    "            return memo[index]\n",
    "        \n",
    "if __name__ == \"__main__\":\n",
    "    temp = [{5, 24}, {39, 60}, {15, 28}, {27, 40}, {50, 90}]\n",
    "    \n",
    "    arr = [Pair(5, 24),\n",
    "           Pair(39, 60),\n",
    "           Pair(15, 28),\n",
    "           Pair(27, 40),\n",
    "           Pair(50, 90)]\n",
    "    \n",
    "    ans = maxChainLength(arr = arr, memo = {}, n = len(arr))\n",
    "    print(ans)\n"
   ]
  }
 ],
 "metadata": {
  "kernelspec": {
   "display_name": "Python 3",
   "language": "python",
   "name": "python3"
  },
  "language_info": {
   "codemirror_mode": {
    "name": "ipython",
    "version": 3
   },
   "file_extension": ".py",
   "mimetype": "text/x-python",
   "name": "python",
   "nbconvert_exporter": "python",
   "pygments_lexer": "ipython3",
   "version": "3.12.2"
  }
 },
 "nbformat": 4,
 "nbformat_minor": 2
}
