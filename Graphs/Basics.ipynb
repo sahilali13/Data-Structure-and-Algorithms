{
 "cells": [
  {
   "cell_type": "markdown",
   "metadata": {},
   "source": [
    "# Graph Basics\n"
   ]
  },
  {
   "cell_type": "markdown",
   "metadata": {},
   "source": [
    "## Using Dictionary\n"
   ]
  },
  {
   "cell_type": "code",
   "execution_count": null,
   "metadata": {},
   "outputs": [],
   "source": [
    "class DictGraph:\n",
    "    def __init__(self, gdict: dict = None) -> None:\n",
    "        if gdict is None:\n",
    "            gdict = {}\n",
    "        else:\n",
    "            self.gdict = gdict     \n",
    "\n",
    "    def __str__(self) -> str:\n",
    "        result = ''\n",
    "        for key in self.gdict:\n",
    "            result += key + ': ' + ' | '.join(self.gdict[key]) + '\\n'\n",
    "        return result\n",
    "    \n",
    "    def addEdge(self, vertex, edge) -> None:\n",
    "        self.gdict[vertex].append(edge)"
   ]
  },
  {
   "cell_type": "markdown",
   "metadata": {},
   "source": [
    "## Using List\n"
   ]
  },
  {
   "cell_type": "code",
   "execution_count": null,
   "metadata": {},
   "outputs": [],
   "source": [
    "from collections import deque\n",
    "\n",
    "class ListGraph:\n",
    "    def __init__(self, graph: dict = None) -> None:\n",
    "        if not graph:\n",
    "            self.adjacencyList = {}\n",
    "        else:\n",
    "            self.adjacencyList = graph\n",
    "    \n",
    "    def __str__(self) -> str:\n",
    "        if len(self.adjacencyList) == 0:\n",
    "            return \"None\"\n",
    "        \n",
    "        result = ''\n",
    "        for key in self.adjacencyList:\n",
    "            result += key + ': ' + \" | \".join(self.adjacencyList[key]) + '\\n'\n",
    "        return result\n",
    "    \n",
    "    def addVertex(self, vertex) -> bool:\n",
    "        if vertex not in self.adjacencyList.keys():\n",
    "            self.adjacencyList[vertex] = []\n",
    "            return True\n",
    "        return False\n",
    "    \n",
    "    def addEdge(self, fromVertex, toVertex) -> bool:\n",
    "        if (fromVertex not in self.adjacencyList.keys()) or (toVertex not in self.adjacencyList.keys()):\n",
    "            return False\n",
    "        else:\n",
    "            if toVertex in self.adjacencyList[fromVertex]:\n",
    "                return False\n",
    "            else:\n",
    "                self.adjacencyList[fromVertex].append(toVertex)\n",
    "                self.adjacencyList[toVertex].append(fromVertex)\n",
    "                return True\n",
    "    \n",
    "    def removeEdge(self, fromVertex, toVertex) -> bool:\n",
    "        if (fromVertex not in self.adjacencyList.keys()) or (toVertex not in self.adjacencyList.keys()):\n",
    "            return False\n",
    "        else:\n",
    "            if toVertex not in self.adjacencyList[fromVertex]:\n",
    "                return False\n",
    "            else:\n",
    "                self.adjacencyList[fromVertex].remove(toVertex)\n",
    "                self.adjacencyList[toVertex].remove(fromVertex)\n",
    "                return True\n",
    "    \n",
    "    def removeVertex(self, vertex) -> bool:\n",
    "        if vertex not in self.adjacencyList.keys():\n",
    "            return False\n",
    "        else:\n",
    "            for toVertex in self.adjacencyList[vertex]:\n",
    "                self.adjacencyList[toVertex].remove(vertex)\n",
    "            del self.adjacencyList[vertex]\n",
    "            return True\n",
    "    \n",
    "    def bfs(self, vertex) -> None:\n",
    "        if vertex not in self.adjacencyList.keys():\n",
    "            return None\n",
    "        visited = set()\n",
    "        visited.add(vertex)\n",
    "        queue = deque([vertex])\n",
    "        while queue:\n",
    "            currentVertex = queue.popleft()\n",
    "            print(currentVertex, end = ' | ')\n",
    "            for adjacentVertex in self.adjacencyList[currentVertex]:\n",
    "                if adjacentVertex not in visited:\n",
    "                    visited.add(adjacentVertex)\n",
    "                    queue.append(adjacentVertex)\n",
    "    \n",
    "    def dfs(self, vertex) -> None:\n",
    "        if vertex not in self.adjacencyList.keys():\n",
    "            return None\n",
    "        visited = set()\n",
    "        stack = [vertex]\n",
    "        while stack:\n",
    "            currentVertex = stack.pop()\n",
    "            if currentVertex not in visited:\n",
    "                print(currentVertex, end = ' | ')\n",
    "                visited.add(currentVertex)\n",
    "            for adjacentVertex in self.adjacencyList[currentVertex]:\n",
    "                if adjacentVertex not in visited:\n",
    "                    stack.append(adjacentVertex)\n",
    "            "
   ]
  },
  {
   "cell_type": "markdown",
   "metadata": {},
   "source": [
    "# Main\n"
   ]
  },
  {
   "cell_type": "code",
   "execution_count": null,
   "metadata": {},
   "outputs": [],
   "source": [
    "if __name__ == '__main__':\n",
    "    customDict = {'a' : ['b', 'c'],\n",
    "                  'b' : ['a', 'e'],\n",
    "                  'c' : ['a', 'd'],\n",
    "                  'd' : ['c', 'e'],\n",
    "                  'e' : ['b', 'd'],\n",
    "                  }\n",
    "\n",
    "    newGraph = ListGraph(graph = customDict)\n",
    "    \n",
    "    newGraph.dfs(vertex = 'a')"
   ]
  }
 ],
 "metadata": {
  "kernelspec": {
   "display_name": "Python 3",
   "language": "python",
   "name": "python3"
  },
  "language_info": {
   "codemirror_mode": {
    "name": "ipython",
    "version": 3
   },
   "file_extension": ".py",
   "mimetype": "text/x-python",
   "name": "python",
   "nbconvert_exporter": "python",
   "pygments_lexer": "ipython3",
   "version": "3.12.2"
  }
 },
 "nbformat": 4,
 "nbformat_minor": 2
}
