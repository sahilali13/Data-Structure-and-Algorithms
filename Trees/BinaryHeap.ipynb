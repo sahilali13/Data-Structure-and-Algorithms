{
 "cells": [
  {
   "cell_type": "markdown",
   "metadata": {},
   "source": [
    "# Binary Heap\n"
   ]
  },
  {
   "cell_type": "markdown",
   "metadata": {},
   "source": [
    "## Helper\n"
   ]
  },
  {
   "cell_type": "code",
   "execution_count": 116,
   "metadata": {},
   "outputs": [],
   "source": [
    "from typing import Literal\n",
    "\n",
    "_TraversalTypes = Literal['pre', 'in', 'post', 'level']\n",
    "_HeapTypes = Literal['min', 'max']\n",
    "_HeapifyMode = Literal['insert', 'extract']"
   ]
  },
  {
   "cell_type": "markdown",
   "metadata": {},
   "source": [
    "## Heap\n"
   ]
  },
  {
   "cell_type": "code",
   "execution_count": 117,
   "metadata": {},
   "outputs": [],
   "source": [
    "class Heap:\n",
    "    def __init__(self, max_size: int, type: _HeapTypes = 'min') -> None:\n",
    "        self.customList = (max_size + 1) * [None]\n",
    "        self.heapSize = 0\n",
    "        self.maxSize = max_size + 1\n",
    "        self.heapType = type\n",
    "    \n",
    "    def peek(self) -> int | None:\n",
    "        if not self:\n",
    "            return\n",
    "        else:\n",
    "            return self.customList[1]\n",
    "    \n",
    "    def getSize(self) -> int:\n",
    "        if not self:\n",
    "            return\n",
    "        else:\n",
    "            return self.heapSize\n",
    "    \n",
    "    def traversal(self, order: _TraversalTypes = 'level', index: int = 1) -> None:\n",
    "        if order == 'pre':\n",
    "            if index > self.heapSize:\n",
    "                return None\n",
    "            print(self.customList[index], end = \" \")\n",
    "            self.traversal(order = 'pre', index = index * 2)\n",
    "            self.traversal(order = 'pre', index = index * 2 + 1)\n",
    "        \n",
    "        elif order == 'in':\n",
    "            if index > self.heapSize:\n",
    "                return None\n",
    "            self.traversal(order = 'in', index = index * 2)\n",
    "            print(self.customList[index], end = \" \")\n",
    "            self.traversal(order = 'in', index = index * 2 + 1)\n",
    "        \n",
    "        elif order == 'post':\n",
    "            if index > self.heapSize:\n",
    "                return None\n",
    "            self.traversal(order = 'post', index = index * 2)\n",
    "            self.traversal(order = 'post', index = index * 2 + 1)\n",
    "            print(self.customList[index], end = \" \")\n",
    "        \n",
    "        else:\n",
    "            if not self:\n",
    "                return None\n",
    "            else:\n",
    "                for _ in range(1, self.heapSize + 1):\n",
    "                    print(self.customList[_], end = ' ')\n",
    "\n",
    "    def heapify(self, index: int, _mode: _HeapifyMode = \"insert\") -> None:\n",
    "        if _mode == 'insert':\n",
    "            parentIndex = int(index / 2)\n",
    "            if index <= 1:\n",
    "                return\n",
    "            if self.heapType == 'min':\n",
    "                if self.customList[index] < self.customList[parentIndex]:\n",
    "                    temp = self.customList[index]\n",
    "                    self.customList[index] = self.customList[parentIndex]\n",
    "                    self.customList[parentIndex] = temp\n",
    "                self.heapify(index = parentIndex)\n",
    "            else:\n",
    "                if self.customList[index] > self.customList[parentIndex]:\n",
    "                    temp = self.customList[index]\n",
    "                    self.customList[index] =  self.customList[parentIndex]\n",
    "                    self.customList[parentIndex] = temp\n",
    "                self.heapify(index = parentIndex)\n",
    "        else:\n",
    "            leftIndex = index * 2\n",
    "            rightIndex = index * 2 + 1\n",
    "\n",
    "            swapChild = 0\n",
    "\n",
    "            if self.heapSize < leftIndex:\n",
    "                return\n",
    "            elif self.heapSize == leftIndex:\n",
    "                if self.heapType == 'min':\n",
    "                    if self.customList[index] > self.customList[leftIndex]:\n",
    "                        temp = self.customList[index]\n",
    "                        self.customList[index] = self.customList[leftIndex]\n",
    "                        self.customList[leftIndex] = temp\n",
    "                    return\n",
    "                else:\n",
    "                    if self.customList[index] < self.customList[leftIndex]:\n",
    "                        temp = self.customList[index]\n",
    "                        self.customList[index] = self.customList[leftIndex]\n",
    "                        self.customList[leftIndex] = temp\n",
    "                    return\n",
    "            else:\n",
    "                if self.heapType == 'min':\n",
    "                    if self.customList[leftIndex] < self.customList[rightIndex]:\n",
    "                        swapChild = leftIndex\n",
    "                    else:\n",
    "                        swapChild = rightIndex\n",
    "                    if self.customList[index] > self.customList[swapChild]:\n",
    "                        temp = self.customList[index]\n",
    "                        self.customList[index] = self.customList[swapChild]\n",
    "                        self.customList[swapChild] = temp\n",
    "                else:\n",
    "                    if self.customList[leftIndex] > self.customList[rightIndex]:\n",
    "                        swapChild = leftIndex\n",
    "                    else:\n",
    "                        swapChild = rightIndex\n",
    "                    if self.customList[index] < self.customList[swapChild]:\n",
    "                        temp = self.customList[index]\n",
    "                        self.customList[index] = self.customList[swapChild]\n",
    "                        self.customList[swapChild] = temp\n",
    "                        \n",
    "                self.heapify(index = swapChild, _mode = 'extract')\n",
    "\n",
    "    def insert(self, nodeValue: int) -> bool:\n",
    "        if self.heapSize + 1 == self.maxSize:\n",
    "            return False\n",
    "        self.customList[self.heapSize + 1] = nodeValue\n",
    "        self.heapSize += 1\n",
    "        self.heapify(index = self.heapSize)\n",
    "        return True\n",
    "\n",
    "    def extract(self) -> int | None:\n",
    "        if self.heapSize == 0:\n",
    "            return\n",
    "        else:\n",
    "            extractedNode = self.customList[1]\n",
    "            self.customList[1] = self.customList[self.heapSize]\n",
    "            self.customList[self.heapSize] = None\n",
    "            self.heapSize -= 1\n",
    "            self.heapify(index = 1, _mode = 'extract')\n",
    "            return extractedNode\n",
    "    \n",
    "    def delete(self) -> None:\n",
    "        self.customList = None\n",
    "        self.heapSize = 0\n",
    "    "
   ]
  },
  {
   "cell_type": "markdown",
   "metadata": {},
   "source": [
    "# Main\n"
   ]
  },
  {
   "cell_type": "code",
   "execution_count": 118,
   "metadata": {},
   "outputs": [
    {
     "name": "stdout",
     "output_type": "stream",
     "text": [
      "5 4 2 1 \n",
      "1 4 2 5 \n",
      "5\n"
     ]
    }
   ],
   "source": [
    "if __name__ == '__main__':\n",
    "    \n",
    "    newBinaryHeap = Heap(max_size = 5, type = 'max')\n",
    "\n",
    "    newBinaryHeap.insert(nodeValue = 4)\n",
    "    newBinaryHeap.insert(nodeValue = 5)\n",
    "    newBinaryHeap.insert(nodeValue = 2)\n",
    "    newBinaryHeap.insert(nodeValue = 1)\n",
    "\n",
    "    newBinaryHeap.traversal()\n",
    "    print()\n",
    "    newBinaryHeap.traversal(order = 'post')\n",
    "    print()\n",
    "    print(newBinaryHeap.extract())\n",
    "\n",
    "    p"
   ]
  }
 ],
 "metadata": {
  "kernelspec": {
   "display_name": "Python 3",
   "language": "python",
   "name": "python3"
  },
  "language_info": {
   "codemirror_mode": {
    "name": "ipython",
    "version": 3
   },
   "file_extension": ".py",
   "mimetype": "text/x-python",
   "name": "python",
   "nbconvert_exporter": "python",
   "pygments_lexer": "ipython3",
   "version": "3.12.2"
  }
 },
 "nbformat": 4,
 "nbformat_minor": 2
}
