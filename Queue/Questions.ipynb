{
 "cells": [
  {
   "cell_type": "markdown",
   "metadata": {},
   "source": [
    "# Questions\n"
   ]
  },
  {
   "cell_type": "markdown",
   "metadata": {},
   "source": [
    "## Animal Shelter - Dog and Cat\n"
   ]
  },
  {
   "cell_type": "code",
   "execution_count": null,
   "metadata": {},
   "outputs": [],
   "source": [
    "from enum import Enum\n",
    "\n",
    "class Animal(Enum):\n",
    "    Cat = 0\n",
    "    Dog = 1\n",
    "\n",
    "class Node:\n",
    "    def __init__(self, animal):\n",
    "        self.animal = animal\n",
    "        self.next = None\n",
    "\n",
    "    def __str__(self):\n",
    "        return self.animal.name\n",
    "\n",
    "class LinkedList:\n",
    "    def __init__(self):\n",
    "        self.head = None\n",
    "        self.tail = None\n",
    "\n",
    "    def __iter__(self):\n",
    "        curNode = self.head\n",
    "        while curNode:\n",
    "            yield curNode\n",
    "            curNode = curNode.next\n",
    "\n",
    "class CustomQueue:\n",
    "    def __init__(self):\n",
    "        self.linkedlist = LinkedList()\n",
    "    \n",
    "    def __str__(self):\n",
    "        if self.isEmpty():\n",
    "            return \"None\"\n",
    "        else:\n",
    "            values = [_.animal.name for _ in self.linkedlist]\n",
    "            return \" <- \".join(values)\n",
    "    \n",
    "    def isEmpty(self):\n",
    "        if self.linkedlist.head is None:\n",
    "            return True\n",
    "        else:\n",
    "            return False\n",
    "        \n",
    "    def enqueue(self, animal):\n",
    "        new_animal = Node(animal = animal)\n",
    "        if self.isEmpty():\n",
    "            self.linkedlist.head = new_animal\n",
    "            self.linkedlist.tail = new_animal\n",
    "        else:\n",
    "            self.linkedlist.tail.next = new_animal\n",
    "            self.linkedlist.tail = new_animal\n",
    "    \n",
    "    def dequeueAny(self):\n",
    "        if self.linkedlist.head is None:\n",
    "            return None\n",
    "        else:\n",
    "            popped_animal = self.linkedlist.head.animal\n",
    "            self.linkedlist.head = self.linkedlist.head.next\n",
    "            return popped_animal\n",
    "\n",
    "    def dequeueCat(self):\n",
    "        if self.linkedlist.head is None:\n",
    "            return None\n",
    "        else:\n",
    "            curAnimal = self.linkedlist.head\n",
    "            prevAnimal = None\n",
    "            if curAnimal.animal is Animal.Cat:\n",
    "                return self.dequeueAny()\n",
    "            else:\n",
    "                while curAnimal.animal is not Animal.Cat:\n",
    "                    prevAnimal = curAnimal\n",
    "                    curAnimal = curAnimal.next\n",
    "                popped_animal = curAnimal.animal\n",
    "                prevAnimal.next = curAnimal.next\n",
    "                return popped_animal\n",
    "    \n",
    "    def dequeueDog(self):\n",
    "        if self.linkedlist.head is None:\n",
    "            return None\n",
    "        else:\n",
    "            curAnimal = self.linkedlist.head\n",
    "            prevAnimal = None\n",
    "            if curAnimal.animal is Animal.Dog:\n",
    "                return self.dequeueAny()\n",
    "            else:\n",
    "                while curAnimal.animal is not Animal.Dog:\n",
    "                    prevAnimal = curAnimal\n",
    "                    curAnimal = curAnimal.next\n",
    "                popped_animal = curAnimal.animal\n",
    "                prevAnimal.next = curAnimal.next\n",
    "                return popped_animal\n"
   ]
  },
  {
   "cell_type": "markdown",
   "metadata": {},
   "source": [
    "# Main\n"
   ]
  },
  {
   "cell_type": "code",
   "execution_count": null,
   "metadata": {},
   "outputs": [],
   "source": [
    "customAnimal = CustomQueue()\n",
    "\n",
    "customAnimal.enqueue(animal = Animal.Dog)\n",
    "customAnimal.enqueue(animal = Animal.Cat)\n",
    "customAnimal.enqueue(animal = Animal.Dog)\n",
    "customAnimal.enqueue(animal = Animal.Cat)\n",
    "customAnimal.enqueue(animal = Animal.Cat)\n",
    "customAnimal.enqueue(animal = Animal.Cat)\n",
    "customAnimal.enqueue(animal = Animal.Dog)\n",
    "customAnimal.enqueue(animal = Animal.Cat)\n",
    "\n",
    "print(customAnimal.dequeueCat())\n",
    "\n",
    "print(customAnimal.dequeueDog())\n",
    "\n",
    "\n"
   ]
  }
 ],
 "metadata": {
  "kernelspec": {
   "display_name": "Python 3",
   "language": "python",
   "name": "python3"
  },
  "language_info": {
   "codemirror_mode": {
    "name": "ipython",
    "version": 3
   },
   "file_extension": ".py",
   "mimetype": "text/x-python",
   "name": "python",
   "nbconvert_exporter": "python",
   "pygments_lexer": "ipython3",
   "version": "3.12.2"
  }
 },
 "nbformat": 4,
 "nbformat_minor": 2
}
