{
 "cells": [
  {
   "cell_type": "markdown",
   "metadata": {},
   "source": [
    "# Backtracking\n"
   ]
  },
  {
   "cell_type": "markdown",
   "metadata": {},
   "source": [
    "## N - Queens Problem\n"
   ]
  },
  {
   "cell_type": "code",
   "execution_count": null,
   "metadata": {},
   "outputs": [],
   "source": [
    "class NQueens:\n",
    "    def __init__(self, no_of_queens: int) -> None:\n",
    "        self.no_of_queens = no_of_queens\n",
    "        self.chess_table = [[0 for _ in range(no_of_queens)] for _ in range(no_of_queens)]\n",
    "    \n",
    "    def print_queens(self) -> None:\n",
    "        for row in range(self.no_of_queens):\n",
    "            for col in range(self.no_of_queens):\n",
    "                if self.chess_table[row][col] == 1:\n",
    "                    print(\"\\tQ\\t\", end = '')\n",
    "                else:\n",
    "                    print(\"\\t--\\t\", end = '')\n",
    "            print('\\n')\n",
    "\n",
    "    def is_cell_safe(self, row: int, col: int) -> bool:\n",
    "        # Check horizontal\n",
    "        for i in range(self.no_of_queens):\n",
    "            if self.chess_table[row][i] == 1:\n",
    "                return False\n",
    "        \n",
    "        # Check top left\n",
    "        j = col\n",
    "        for i in range(row, -1, -1):\n",
    "            if i < 0:\n",
    "                break\n",
    "            if self.chess_table[i][j] == 1:\n",
    "                return False\n",
    "            j -= 1\n",
    "        \n",
    "        # Check bottom left\n",
    "        j = col\n",
    "        for i in range(row, self.no_of_queens):\n",
    "            if i < 0:\n",
    "                break\n",
    "            if self.chess_table[i][j] == 1:\n",
    "                return False\n",
    "            j -= 1\n",
    "        \n",
    "        return True\n",
    "\n",
    "    def solve(self, col: int) -> bool:\n",
    "        if col == self.no_of_queens:\n",
    "            return True\n",
    "        \n",
    "        for row in range(self.no_of_queens):\n",
    "            if self.is_cell_safe(row = row, col = col):\n",
    "                self.chess_table[row][col] = 1\n",
    "            \n",
    "                if self.solve(col = col + 1):\n",
    "                    return True\n",
    "                \n",
    "                self.chess_table[row][col] = 0\n",
    "        \n",
    "        return False\n",
    "    \n",
    "    def solve_n_queens(self) -> None:\n",
    "        if self.solve(0):\n",
    "            self.print_queens()\n",
    "        else:\n",
    "            print(\"No Solution\")\n",
    "\n",
    "if __name__ == '__main__':\n",
    "    nQueens = NQueens(no_of_queens = 5)\n",
    "\n",
    "    nQueens.solve_n_queens()\n",
    "\n"
   ]
  }
 ],
 "metadata": {
  "kernelspec": {
   "display_name": "Python 3",
   "language": "python",
   "name": "python3"
  },
  "language_info": {
   "codemirror_mode": {
    "name": "ipython",
    "version": 3
   },
   "file_extension": ".py",
   "mimetype": "text/x-python",
   "name": "python",
   "nbconvert_exporter": "python",
   "pygments_lexer": "ipython3",
   "version": "3.12.2"
  }
 },
 "nbformat": 4,
 "nbformat_minor": 2
}
