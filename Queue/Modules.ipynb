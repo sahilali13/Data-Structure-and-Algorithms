{
 "cells": [
  {
   "cell_type": "markdown",
   "metadata": {},
   "source": [
    "# Using Python Modules\n"
   ]
  },
  {
   "cell_type": "markdown",
   "metadata": {},
   "source": [
    "## Collections Modules\n"
   ]
  },
  {
   "cell_type": "code",
   "execution_count": null,
   "metadata": {},
   "outputs": [],
   "source": [
    "from collections import deque\n",
    "\n",
    "customQueue = deque(maxlen = 5)\n",
    "\n",
    "customQueue.append(10)\n",
    "customQueue.append(20)\n",
    "customQueue.append(30)\n",
    "customQueue.append(40)\n",
    "\n",
    "print(customQueue.popleft())\n",
    "\n",
    "print(customQueue.pop())\n",
    "\n",
    "customQueue.clear()"
   ]
  },
  {
   "cell_type": "markdown",
   "metadata": {},
   "source": [
    "## Python Queue Module\n"
   ]
  },
  {
   "cell_type": "code",
   "execution_count": null,
   "metadata": {},
   "outputs": [],
   "source": [
    "import queue as q\n",
    "\n",
    "customQueue = q.Queue(maxsize = 3)\n",
    "\n",
    "print(customQueue.qsize())\n",
    "\n",
    "customQueue.put(item = 10)\n",
    "customQueue.put(item = 20)\n",
    "customQueue.put(item = 30)\n",
    "\n",
    "print(customQueue.full)\n",
    "print(customQueue.get())"
   ]
  },
  {
   "cell_type": "markdown",
   "metadata": {},
   "source": [
    "## Using Multiprocessing Module\n"
   ]
  },
  {
   "cell_type": "code",
   "execution_count": null,
   "metadata": {},
   "outputs": [],
   "source": [
    "from multiprocessing import Queue\n",
    "\n",
    "customQueue = Queue(maxsize = 3)\n",
    "\n",
    "customQueue.put(obj = 10)\n",
    "customQueue.put(obj = 20)\n",
    "customQueue.put(obj = 30)\n",
    "\n",
    "print(customQueue.get())"
   ]
  }
 ],
 "metadata": {
  "kernelspec": {
   "display_name": "Python 3",
   "language": "python",
   "name": "python3"
  },
  "language_info": {
   "codemirror_mode": {
    "name": "ipython",
    "version": 3
   },
   "file_extension": ".py",
   "mimetype": "text/x-python",
   "name": "python",
   "nbconvert_exporter": "python",
   "pygments_lexer": "ipython3",
   "version": "3.12.2"
  }
 },
 "nbformat": 4,
 "nbformat_minor": 2
}
