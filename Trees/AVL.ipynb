{
 "cells": [
  {
   "cell_type": "markdown",
   "metadata": {},
   "source": [
    "# AVL Tree\n"
   ]
  },
  {
   "cell_type": "markdown",
   "metadata": {},
   "source": [
    "## Helper\n"
   ]
  },
  {
   "cell_type": "code",
   "execution_count": null,
   "metadata": {},
   "outputs": [],
   "source": [
    "class AVLNode: ...\n",
    "class AVL: ...\n",
    "\n",
    "def generate() -> AVLNode:\n",
    "    newAVL = AVLNode(data = 5)\n",
    "    \n",
    "    newAVL = AVL.insertNode(rootNode = newAVL, nodeValue = 10)\n",
    "    newAVL = AVL.insertNode(rootNode = newAVL, nodeValue = 15)\n",
    "    newAVL = AVL.insertNode(rootNode = newAVL, nodeValue = 20)\n",
    "\n",
    "    return newAVL"
   ]
  },
  {
   "cell_type": "markdown",
   "metadata": {},
   "source": [
    "### Linked List Node\n"
   ]
  },
  {
   "cell_type": "code",
   "execution_count": null,
   "metadata": {},
   "outputs": [],
   "source": [
    "class LinkedListNode:\n",
    "    def __init__(self, value):\n",
    "        self.value = value\n",
    "        self.next = None"
   ]
  },
  {
   "cell_type": "markdown",
   "metadata": {},
   "source": [
    "### Linked List\n"
   ]
  },
  {
   "cell_type": "code",
   "execution_count": null,
   "metadata": {},
   "outputs": [],
   "source": [
    "class LinkedList():\n",
    "    def __init__(self):\n",
    "        self.head = None\n",
    "        self.tail = None"
   ]
  },
  {
   "cell_type": "markdown",
   "metadata": {},
   "source": [
    "### Custom Queue\n"
   ]
  },
  {
   "cell_type": "code",
   "execution_count": null,
   "metadata": {},
   "outputs": [],
   "source": [
    "class CustomQueue:\n",
    "    def __init__(self):\n",
    "        self.linkedList = LinkedList()\n",
    "\n",
    "    def __str__(self):\n",
    "        pointer = self.linkedList.head\n",
    "        result = \"\"\n",
    "        while pointer:\n",
    "            result += str(pointer.value) + ' '\n",
    "            pointer = pointer.next\n",
    "        return result\n",
    "    \n",
    "    def isEmpty(self) -> bool:\n",
    "        if self.linkedList.head:\n",
    "            return False\n",
    "        else:\n",
    "            return True\n",
    "        \n",
    "    def enqueue(self, value):\n",
    "        new_node = LinkedListNode(value = value)\n",
    "        if self.isEmpty():\n",
    "            self.linkedList.head = new_node\n",
    "            self.linkedList.tail = new_node\n",
    "        else:\n",
    "            self.linkedList.tail.next = new_node\n",
    "            self.linkedList.tail = new_node\n",
    "    \n",
    "    def dequeue(self):\n",
    "        if not self.isEmpty():\n",
    "            removed_node_value = self.linkedList.head.value\n",
    "            self.linkedList.head = self.linkedList.head.next\n",
    "            if self.linkedList.head is None:\n",
    "                self.linkedList.tail = None\n",
    "            return removed_node_value\n",
    "        else:\n",
    "            return"
   ]
  },
  {
   "cell_type": "markdown",
   "metadata": {},
   "source": [
    "## AVL Tree Node\n"
   ]
  },
  {
   "cell_type": "code",
   "execution_count": null,
   "metadata": {},
   "outputs": [],
   "source": [
    "class AVLNode:\n",
    "    def __init__(self, data):\n",
    "        self.data = data\n",
    "        self.leftChild = None\n",
    "        self.rightChild = None\n",
    "        self.height = 1"
   ]
  },
  {
   "cell_type": "markdown",
   "metadata": {},
   "source": [
    "## AVL Tree\n"
   ]
  },
  {
   "cell_type": "code",
   "execution_count": null,
   "metadata": {},
   "outputs": [],
   "source": [
    "class AVL:\n",
    "    def traversal(rootNode: AVLNode, order: str = \"inorder\"):\n",
    "        if order == 'inorder':\n",
    "            if rootNode:\n",
    "                AVL.traversal(rootNode = rootNode.leftChild)\n",
    "                print(rootNode.data, end = ' ')\n",
    "                AVL.traversal(rootNode = rootNode.rightChild)\n",
    "\n",
    "        elif order == 'preorder':\n",
    "            if rootNode:\n",
    "                print(rootNode.data, end = ' ')\n",
    "                AVL.traversal(rootNode = rootNode.leftChild, order = 'preorder')\n",
    "                AVL.traversal(rootNode = rootNode.rightChild, order = 'preorder')\n",
    "        \n",
    "        elif order == 'postorder':\n",
    "            if rootNode:\n",
    "                AVL.traversal(rootNode = rootNode.leftChild, order = 'postorder')\n",
    "                AVL.traversal(rootNode = rootNode.rightChild, order = 'postorder')\n",
    "                print(rootNode.data, end = ' ')\n",
    "        \n",
    "        elif order == 'levelorder':\n",
    "            if rootNode:\n",
    "                customQueue = CustomQueue()\n",
    "                customQueue.enqueue(value = rootNode)\n",
    "    \n",
    "                while not customQueue.isEmpty():\n",
    "                    root = customQueue.dequeue()\n",
    "                    print(root.data, end = ' ')\n",
    "                    if root.leftChild:\n",
    "                        customQueue.enqueue(value = root.leftChild)\n",
    "                    if root.rightChild:\n",
    "                        customQueue.enqueue(value = root.rightChild)\n",
    "        \n",
    "    def getHeight(rootNode: AVLNode) -> int:\n",
    "        if not rootNode:\n",
    "            return 0 \n",
    "        return rootNode.height\n",
    "    \n",
    "    def rightRotate(disbalancedNode: AVLNode) -> AVLNode:\n",
    "        newRoot = disbalancedNode.leftChild\n",
    "        disbalancedNode.leftChild = disbalancedNode.leftChild.rightChild\n",
    "        newRoot.rightChild = disbalancedNode\n",
    "        disbalancedNode.height = 1 + max(AVL.getHeight(rootNode = disbalancedNode.leftChild), AVL.getHeight(rootNode = disbalancedNode.rightChild))\n",
    "        newRoot.height = 1 + max(AVL.getHeight(rootNode = newRoot.leftChild), AVL.getHeight(rootNode = newRoot.rightChild))\n",
    "        return newRoot\n",
    "\n",
    "    def leftRotate(disbalancedNode: AVLNode) -> AVLNode:\n",
    "        newRoot = disbalancedNode.rightChild\n",
    "        disbalancedNode.rightChild = disbalancedNode.rightChild.leftChild\n",
    "        newRoot.leftChild = disbalancedNode\n",
    "        disbalancedNode.height = 1 + max(AVL.getHeight(rootNode = disbalancedNode.leftChild), AVL.getHeight(rootNode = disbalancedNode.rightChild))\n",
    "        newRoot.height = 1 + max(AVL.getHeight(rootNode = newRoot.leftChild), AVL.getHeight(rootNode = newRoot.rightChild))\n",
    "        return newRoot\n",
    "    \n",
    "    def getBalance(rootNode: AVLNode) -> int:\n",
    "        if not rootNode:\n",
    "            0\n",
    "        return AVL.getHeight(rootNode = rootNode.leftChild) - AVL.getHeight(rootNode = rootNode.rightChild)\n",
    "    \n",
    "    def insertNode(rootNode: AVLNode, nodeValue: int) -> AVLNode:\n",
    "        if not rootNode:\n",
    "            return AVLNode(data = nodeValue)\n",
    "        \n",
    "        elif nodeValue <= rootNode.data:\n",
    "            rootNode.leftChild = AVL.insertNode(rootNode = rootNode.leftChild, nodeValue = nodeValue)\n",
    "        \n",
    "        else:\n",
    "            rootNode.rightChild = AVL.insertNode(rootNode = rootNode.rightChild, nodeValue = nodeValue)\n",
    "        \n",
    "        rootNode.height = 1 + max(AVL.getHeight(rootNode = rootNode.leftChild), AVL.getHeight(rootNode = rootNode.rightChild))\n",
    "        balance = AVL.getBalance(rootNode = rootNode)\n",
    "\n",
    "        if balance > 1 and nodeValue < rootNode.leftChild.data:                                 # Left Left \n",
    "            return AVL.rightRotate(disbalancedNode = rootNode)\n",
    "        \n",
    "        if balance > 1 and nodeValue > rootNode.leftChild.data:                                 # Left Right\n",
    "            rootNode.leftChild = AVL.leftRotate(disbalancedNode = rootNode.leftChild)\n",
    "            return AVL.rightRotate(disbalancedNode = rootNode)\n",
    "        \n",
    "        if balance < -1 and nodeValue < rootNode.rightChild.data:                               # Right Left\n",
    "            rootNode.rightChild = AVL.rightRotate(disbalancedNode = rootNode.rightChild)\n",
    "            return AVL.leftRotate(disbalancedNode = rootNode)\n",
    "        \n",
    "        if balance < -1 and nodeValue > rootNode.rightChild.data:                               # Right Right\n",
    "            return AVL.leftRotate(disbalancedNode = rootNode)\n",
    "        \n",
    "        return rootNode\n",
    "    \n",
    "    def getSuccessor(rootNode: AVLNode) -> AVLNode:\n",
    "        if rootNode.rightChild is None or rootNode.rightChild.leftChild is None:\n",
    "            return rootNode.rightChild\n",
    "        return AVL.getSuccessor(rootNode = rootNode.rightChild.leftChild)\n",
    "    \n",
    "    def deleteNode(rootNode: AVLNode, nodeValue: int) -> AVLNode:\n",
    "        if not rootNode:\n",
    "            return rootNode\n",
    "        elif nodeValue < rootNode.data:\n",
    "            rootNode.leftChild = AVL.deleteNode(rootNode = rootNode.leftChild, nodeValue = nodeValue)\n",
    "        elif nodeValue > rootNode.data:\n",
    "            rootNode.rightChild = AVL.deleteNode(rootNode = rootNode.rightChild, nodeValue = nodeValue)\n",
    "        else:\n",
    "            if rootNode.leftChild is None:\n",
    "                temp = rootNode.rightChild\n",
    "                rootNode = None\n",
    "                return temp\n",
    "            elif rootNode.rightChild is None:\n",
    "                temp = rootNode.leftChild\n",
    "                rootNode = None\n",
    "                return temp\n",
    "            temp = AVL.getSuccessor(rootNode = rootNode)\n",
    "            rootNode.data = temp.data\n",
    "            rootNode.rightChild = AVL.deleteNode(rootNode = rootNode.rightChild, nodeValue = temp.data)\n",
    "        \n",
    "        balance = AVL.getBalance(rootNode = rootNode)\n",
    "\n",
    "        if balance > 1 and AVL.getBalance(rootNode = rootNode.leftChild) >= 0:              # Left Left\n",
    "            return AVL.rightRotate(disbalancedNode = rootNode)\n",
    "        \n",
    "        if balance > 1 and AVL.getBalance(rootNode = rootNode.leftChild) < 0:               # Left Right\n",
    "            rootNode.leftChild = AVL.leftRotate(disbalancedNode = rootNode.leftChild)\n",
    "            return AVL.rightRotate(disbalancedNode = rootNode)\n",
    "        \n",
    "        if balance < -1 and AVL.getBalance(rootNode = rootNode.rightChild) <= 0:             # Right Right\n",
    "            return AVL.leftRotate(disbalancedNode = rootNode)\n",
    "        \n",
    "        if balance < -1 and AVL.getBalance(rootNode = rootNode.leftChild) > 0:               # Right Left\n",
    "            rootNode.rightChild = AVL.rightRotate(disbalancedNode = rootNode.rightChild)\n",
    "            return AVL.leftRotate(disbalancedNode = rootNode)\n",
    "        \n",
    "        return rootNode\n",
    "\n",
    "    def deleteAll(rootNode: AVLNode):\n",
    "        rootNode.data = None\n",
    "        rootNode.leftChild = None\n",
    "        rootNode.rightChild = None"
   ]
  },
  {
   "cell_type": "markdown",
   "metadata": {},
   "source": [
    "# Main\n"
   ]
  },
  {
   "cell_type": "code",
   "execution_count": null,
   "metadata": {},
   "outputs": [],
   "source": [
    "if __name__ == '__main__':\n",
    "    newTree = generate()\n",
    "    print('\\n')\n",
    "    AVL.traversal(rootNode = newTree, order = 'preorder')\n",
    "    print('\\n')\n",
    "    AVL.traversal(rootNode = newTree, order = 'levelorder')\n",
    "\n",
    "    AVL.deleteAll(rootNode = newTree)\n",
    "\n",
    "    print('\\n')\n",
    "    AVL.traversal(rootNode = newTree, order = 'preorder')\n",
    "    print('\\n')\n",
    "    AVL.traversal(rootNode = newTree, order = 'levelorder')"
   ]
  }
 ],
 "metadata": {
  "kernelspec": {
   "display_name": "Python 3",
   "language": "python",
   "name": "python3"
  },
  "language_info": {
   "codemirror_mode": {
    "name": "ipython",
    "version": 3
   },
   "file_extension": ".py",
   "mimetype": "text/x-python",
   "name": "python",
   "nbconvert_exporter": "python",
   "pygments_lexer": "ipython3",
   "version": "3.12.2"
  }
 },
 "nbformat": 4,
 "nbformat_minor": 2
}
