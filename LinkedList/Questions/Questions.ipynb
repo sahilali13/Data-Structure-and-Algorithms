{
 "cells": [
  {
   "cell_type": "markdown",
   "metadata": {},
   "source": [
    "# Questions\n"
   ]
  },
  {
   "cell_type": "markdown",
   "metadata": {},
   "source": [
    "## Initialization\n"
   ]
  },
  {
   "cell_type": "markdown",
   "metadata": {},
   "source": [
    "### Libraries\n"
   ]
  },
  {
   "cell_type": "code",
   "execution_count": 16,
   "metadata": {},
   "outputs": [],
   "source": [
    "from random import randint"
   ]
  },
  {
   "cell_type": "markdown",
   "metadata": {},
   "source": [
    "### Node Class\n"
   ]
  },
  {
   "cell_type": "code",
   "execution_count": 17,
   "metadata": {},
   "outputs": [],
   "source": [
    "class Node():\n",
    "    def __init__(self, value = None):                           # Initialization\n",
    "        self.value = value\n",
    "        self.next = None\n",
    "        self.prev = None\n",
    "    def __str__(self):                                          # Printing the node\n",
    "        return str(self.value)"
   ]
  },
  {
   "cell_type": "markdown",
   "metadata": {},
   "source": [
    "### Linked List Class\n"
   ]
  },
  {
   "cell_type": "code",
   "execution_count": 18,
   "metadata": {},
   "outputs": [],
   "source": [
    "class LinkedList:\n",
    "    def __init__(self, values = None):                                      # Initialization\n",
    "        self.head = None\n",
    "        self.tail = None\n",
    "\n",
    "    def __iter__(self):                                                     # Making list iterable\n",
    "        curNode = self.head\n",
    "        while curNode:\n",
    "            yield curNode\n",
    "            curNode = curNode.next\n",
    "    \n",
    "    def __str__(self):                                                      # Printing the list\n",
    "        values = [str(x.value) for x in self]\n",
    "        return ' -> '.join(values)\n",
    "    \n",
    "    def __len__(self):                                                      # Return the length of the list\n",
    "        result = 0\n",
    "        node = self.head\n",
    "        while node:\n",
    "            result += 1\n",
    "            node = node.next\n",
    "        return result\n",
    "    \n",
    "    def add(self, value):                                                   # Append a node\n",
    "        if self.head is None:\n",
    "            newNode = Node(value)\n",
    "            self.head = newNode\n",
    "            self.tail = newNode\n",
    "        else:\n",
    "            self.tail.next = Node(value)\n",
    "            self.tail = self.tail.next\n",
    "        return self.tail\n",
    "    \n",
    "    def generate(self, n, min_value, max_value):                            # Generate a random linked list \n",
    "        self.head = None\n",
    "        self.tail = None\n",
    "        for i in range(n):\n",
    "            self.add(randint(min_value,max_value))\n",
    "        return self"
   ]
  },
  {
   "cell_type": "markdown",
   "metadata": {},
   "source": [
    "## Remove Duplicates\n"
   ]
  },
  {
   "cell_type": "code",
   "execution_count": 19,
   "metadata": {},
   "outputs": [],
   "source": [
    "def remove_duplicates(ll):\n",
    "    unique = set()\n",
    "    current_node = ll.head\n",
    "    unique.add(current_node.value)\n",
    "    while current_node.next:\n",
    "        if current_node.next.value not in unique:\n",
    "            unique.add(current_node.next.value)\n",
    "            current_node = current_node.next\n",
    "        else:\n",
    "            current_node.next = current_node.next.next"
   ]
  },
  {
   "cell_type": "markdown",
   "metadata": {},
   "source": [
    "## Return nth from the last\n"
   ]
  },
  {
   "cell_type": "code",
   "execution_count": 20,
   "metadata": {},
   "outputs": [],
   "source": [
    "def nth_from_last(linked_list, n):\n",
    "    pointer1 = linked_list.head\n",
    "    pointer2 = linked_list.head\n",
    "\n",
    "    for _ in range(n):\n",
    "        if pointer2 is None:\n",
    "            return None\n",
    "        pointer2 = pointer2.next\n",
    "\n",
    "    while pointer2:\n",
    "        pointer1 = pointer1.next\n",
    "        pointer2 = pointer2.next\n",
    "    \n",
    "    return pointer1"
   ]
  },
  {
   "cell_type": "markdown",
   "metadata": {},
   "source": [
    "## Partition a list around a value x, such that all nodes less than x comes before all nodes greater or equal to x\n"
   ]
  },
  {
   "cell_type": "code",
   "execution_count": 21,
   "metadata": {},
   "outputs": [],
   "source": [
    "def partition(linked_list, x):\n",
    "    current_node = linked_list.head\n",
    "    linked_list.tail = linked_list.head\n",
    "\n",
    "    while current_node:\n",
    "        next_node = current_node.next\n",
    "        current_node.next = None\n",
    "        if current_node.value < x:\n",
    "            current_node.next = linked_list.head\n",
    "            linked_list.head = current_node\n",
    "        else:\n",
    "            linked_list.tail.next = current_node\n",
    "            linked_list.tail = current_node\n",
    "        current_node = next_node\n",
    "    \n",
    "    if linked_list.tail.next is not None:\n",
    "        linked_list.tail.next = None\n"
   ]
  },
  {
   "cell_type": "markdown",
   "metadata": {},
   "source": [
    "## Two numbers are represented as a linked list, where digits are stored in reverse order. Add the two number and the represent it as a linked list\n"
   ]
  },
  {
   "cell_type": "code",
   "execution_count": 22,
   "metadata": {},
   "outputs": [],
   "source": [
    "def get_value(linked_list):\n",
    "    result = 0\n",
    "    current_node = linked_list.head\n",
    "    temp = 0\n",
    "    while current_node:\n",
    "        result += (current_node.value * (10 ** temp))\n",
    "        temp += 1\n",
    "        current_node = current_node.next\n",
    "    return result\n",
    "\n",
    "def add_numbers(linked_list_A, linked_list_B):\n",
    "    a = get_value(linked_list = linked_list_A)\n",
    "    b = get_value(linked_list = linked_list_B)\n",
    "    \n",
    "    result = LinkedList()\n",
    "\n",
    "    temp = a + b\n",
    "    while temp != 0:\n",
    "        result.add(value = (temp % 10))\n",
    "        temp = temp // 10\n",
    "        \n",
    "    return result"
   ]
  },
  {
   "cell_type": "markdown",
   "metadata": {},
   "source": [
    "## Given two singly linked list return the intersecting node\n"
   ]
  },
  {
   "cell_type": "code",
   "execution_count": 23,
   "metadata": {},
   "outputs": [],
   "source": [
    "def addSameNode(linked_list_A, linked_list_B, value = None):\n",
    "    new_node = Node(value = value)\n",
    "\n",
    "    linked_list_A.tail.next = new_node\n",
    "    linked_list_B.tail.next = new_node\n",
    "\n",
    "    linked_list_A.tail = linked_list_B.tail = new_node\n",
    "    \n",
    "def node_intersection(linked_list_A, linked_list_B):\n",
    "\n",
    "    if linked_list_A.tail is not linked_list_B.tail:\n",
    "        print(\"Hello\")\n",
    "        return None\n",
    "    \n",
    "    len_A = len(linked_list_A)\n",
    "    len_B = len(linked_list_B)\n",
    "\n",
    "    pointer_A = linked_list_A.head\n",
    "    pointer_B = linked_list_B.head\n",
    "\n",
    "    if len_A > len_B:\n",
    "        for _ in range(len_A - len_B):\n",
    "            pointer_A = pointer_A.next\n",
    "    elif len_A < len_B:\n",
    "        for _ in range(len_B - len_A):\n",
    "            pointer_B = pointer_B.next\n",
    "    \n",
    "    while pointer_A is not pointer_B:\n",
    "        pointer_A = pointer_A.next\n",
    "        pointer_B = pointer_B.next\n",
    "    \n",
    "    return pointer_A\n"
   ]
  },
  {
   "cell_type": "markdown",
   "metadata": {},
   "source": [
    "## Main\n"
   ]
  },
  {
   "cell_type": "code",
   "execution_count": 24,
   "metadata": {},
   "outputs": [
    {
     "name": "stdout",
     "output_type": "stream",
     "text": [
      "7\n"
     ]
    }
   ],
   "source": [
    "if __name__ == '__main__':\n",
    "    \n",
    "    ll_A = LinkedList()    \n",
    "    ll_A.generate(n = 4, min_value = 0, max_value = 100)\n",
    "    \n",
    "    ll_B = LinkedList()\n",
    "    ll_B.generate(n = 3, min_value = 0, max_value = 100)\n",
    "\n",
    "    addSameNode(linked_list_A = ll_A, linked_list_B = ll_B, value = 7)\n",
    "    addSameNode(linked_list_A = ll_A, linked_list_B = ll_B, value = 2)\n",
    "    addSameNode(linked_list_A = ll_A, linked_list_B = ll_B, value = 1)\n",
    "    \n",
    "    print(node_intersection(linked_list_A = ll_A, linked_list_B = ll_B))"
   ]
  }
 ],
 "metadata": {
  "kernelspec": {
   "display_name": "Python 3",
   "language": "python",
   "name": "python3"
  },
  "language_info": {
   "codemirror_mode": {
    "name": "ipython",
    "version": 3
   },
   "file_extension": ".py",
   "mimetype": "text/x-python",
   "name": "python",
   "nbconvert_exporter": "python",
   "pygments_lexer": "ipython3",
   "version": "3.12.2"
  }
 },
 "nbformat": 4,
 "nbformat_minor": 2
}
