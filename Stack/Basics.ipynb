{
 "cells": [
  {
   "cell_type": "markdown",
   "metadata": {},
   "source": [
    "# Stack Basics\n"
   ]
  },
  {
   "cell_type": "markdown",
   "metadata": {},
   "source": [
    "## Stack using List and no size limit\n"
   ]
  },
  {
   "cell_type": "code",
   "execution_count": null,
   "metadata": {},
   "outputs": [],
   "source": [
    "class ListStackWithNoLimit:\n",
    "    def __init__(self):                             # Initialization\n",
    "        self.list = list()\n",
    "\n",
    "    def __str__(self):                              # Print Self\n",
    "        self.list.reverse()\n",
    "        values = [str(_) for _ in self.list]\n",
    "        return \" <- \".join(values)\n",
    "    \n",
    "    def isEmpty(self) -> bool:                      # Check is empty or not            \n",
    "        if self.list == []:\n",
    "            return True\n",
    "        return False\n",
    "    \n",
    "    def push(self, value) -> None:                          # Push element at the top of the stack\n",
    "        self.list.append(value)\n",
    "\n",
    "    def pop(self):                                 # Pop and return the top of the stack\n",
    "        if self.list == []:\n",
    "            return None\n",
    "        return self.list.pop()\n",
    "    \n",
    "    def peek(self):                                 # Peek at the top of the stack\n",
    "        if self.list == []:\n",
    "            return None\n",
    "        return self.list[-1]\n",
    "    \n",
    "    def delete(self) -> None:                               # Delete full stack\n",
    "        self.list = None"
   ]
  },
  {
   "cell_type": "markdown",
   "metadata": {},
   "source": [
    "## Stack using List and size limit\n"
   ]
  },
  {
   "cell_type": "code",
   "execution_count": null,
   "metadata": {},
   "outputs": [],
   "source": [
    "class ListStackWithLimit:\n",
    "    def __init__(self, max_size):                           # Initialization\n",
    "        self.max_size = max_size\n",
    "        self.list = list()\n",
    "\n",
    "    def __str__(self):                                      # Print stack\n",
    "        self.list.reverse()\n",
    "        values = [str(_) for _ in self.list]\n",
    "        return \" <- \".join(values)\n",
    "    \n",
    "    def isEmpty(self) -> bool:                              # Check is empty or not\n",
    "        if self.list == []:\n",
    "            return True\n",
    "        return False\n",
    "    \n",
    "    def isFull(self) -> bool:                               # Check is full or not\n",
    "        if len(self.list) == self.max_size:\n",
    "            return True\n",
    "        return False\n",
    "    \n",
    "    def push(self, value) -> bool:                          # Push element at the top of the stack\n",
    "        if self.isFull():\n",
    "            return False\n",
    "        self.list.append(value)\n",
    "        return True\n",
    "    \n",
    "    def pop(self):                                          # Pop top elemnt of the stack\n",
    "        if self.isEmpty():\n",
    "            return None\n",
    "        return self.list.pop()\n",
    "    \n",
    "    def peek(self):                                         # Peek top elemnt of the stack\n",
    "        if self.isEmpty():\n",
    "            return None\n",
    "        return self.list[-1]\n",
    "    \n",
    "    def delete(self) -> None:                               # Delete stack\n",
    "        self.list = None"
   ]
  },
  {
   "cell_type": "markdown",
   "metadata": {},
   "source": [
    "## Stack using Linked List\n"
   ]
  },
  {
   "cell_type": "code",
   "execution_count": null,
   "metadata": {},
   "outputs": [],
   "source": [
    "class Node:                                                                     # Node Class\n",
    "    def __init__(self, value = None):\n",
    "        self.value = value\n",
    "        self.next = None\n",
    "\n",
    "    def __str__(self):\n",
    "        return str(self.value)\n",
    " \n",
    "class LinkedList:                                                               # Linked List Class\n",
    "    def __init__(self):                                                         # Initialization\n",
    "        self.head = None\n",
    "    \n",
    "    def __iter__(self):                                                         # Making Linked List Iterable\n",
    "        curNode = self.head\n",
    "        while curNode:\n",
    "            yield curNode\n",
    "            curNode = curNode.next\n",
    "\n",
    "class LinkedListStack:\n",
    "    def __init__(self):                                                         # Initialization\n",
    "        self.LinkedList = LinkedList()\n",
    "\n",
    "    def __str__(self):                                                          # Print the stack\n",
    "        if self.LinkedList.head:\n",
    "            values = [str(_.value) for _ in self.LinkedList]\n",
    "            return \" <- \".join(values)\n",
    "        else:\n",
    "            return \"None\"\n",
    "    \n",
    "    def isEmpty(self) -> bool:                                                  # Check is empty or not\n",
    "        if self.LinkedList.head:\n",
    "            return False\n",
    "        return True\n",
    "    \n",
    "    def push(self, value):                                                      # Push element at top\n",
    "        new_node = Node(value = value)\n",
    "        new_node.next = self.LinkedList.head\n",
    "        self.LinkedList.head = new_node\n",
    "    \n",
    "    def pop(self):                                                              # Pop top element and return\n",
    "        if self.isEmpty():\n",
    "            return \"None\"\n",
    "        else:\n",
    "            popped_node_value = self.LinkedList.head.value\n",
    "            self.LinkedList.head = self.LinkedList.head.next                \n",
    "            return popped_node_value\n",
    "            \n",
    "    def peek(self):                                                             # Peek top element and return\n",
    "        if self.isEmpty():\n",
    "            return \"Empty\"\n",
    "        else:\n",
    "            return self.LinkedList.head.value\n",
    "        \n",
    "    def delete(self) -> None:                                                   # Delete Stack\n",
    "        self.LinkedList.head = None\n",
    "        "
   ]
  },
  {
   "cell_type": "markdown",
   "metadata": {},
   "source": [
    "# Main\n"
   ]
  },
  {
   "cell_type": "code",
   "execution_count": null,
   "metadata": {},
   "outputs": [],
   "source": [
    "if __name__ == '__main__':\n",
    "    stack = LinkedListStack()\n",
    "\n",
    "    stack.push(value = 10)\n",
    "    stack.push(value = 20)\n",
    "    stack.push(value = 30)\n",
    "\n",
    "    print(stack.delete())"
   ]
  }
 ],
 "metadata": {
  "kernelspec": {
   "display_name": "Python 3",
   "language": "python",
   "name": "python3"
  },
  "language_info": {
   "codemirror_mode": {
    "name": "ipython",
    "version": 3
   },
   "file_extension": ".py",
   "mimetype": "text/x-python",
   "name": "python",
   "nbconvert_exporter": "python",
   "pygments_lexer": "ipython3",
   "version": "3.12.2"
  }
 },
 "nbformat": 4,
 "nbformat_minor": 2
}
