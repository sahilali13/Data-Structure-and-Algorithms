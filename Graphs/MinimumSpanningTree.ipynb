{
 "cells": [
  {
   "cell_type": "markdown",
   "metadata": {},
   "source": [
    "# Minimum Spanning Tree\n"
   ]
  },
  {
   "cell_type": "markdown",
   "metadata": {},
   "source": [
    "## Helpers\n"
   ]
  },
  {
   "cell_type": "markdown",
   "metadata": {},
   "source": [
    "### Disjoint Set\n"
   ]
  },
  {
   "cell_type": "code",
   "execution_count": 105,
   "metadata": {},
   "outputs": [],
   "source": [
    "class DisjointSet:\n",
    "    def __init__(self, vertices: list) -> None:\n",
    "        self.vertices = vertices\n",
    "        self.parent  = {}\n",
    "        for vertice in vertices:\n",
    "            self.parent[vertice] = vertice\n",
    "        self.rank = dict.fromkeys(vertices, 0)\n",
    "    \n",
    "    def find(self, item):\n",
    "        if self.parent[item] == item:\n",
    "            return item\n",
    "        else:\n",
    "            return self.find(item = self.parent[item])\n",
    "    \n",
    "    def union(self, x, y) -> None:\n",
    "        xroot = self.find(x)\n",
    "        yroot = self.find(y)\n",
    "\n",
    "        if self.rank[xroot] < self.rank[yroot]:\n",
    "            self.parent[xroot] = yroot\n",
    "        elif self.rank[xroot] > self.rank[yroot]:\n",
    "            self.parent[yroot] = xroot\n",
    "        else:\n",
    "            self.parent[yroot] = xroot\n",
    "            self.rank[xroot] += 1"
   ]
  },
  {
   "cell_type": "markdown",
   "metadata": {},
   "source": [
    "### Graph\n"
   ]
  },
  {
   "cell_type": "code",
   "execution_count": 106,
   "metadata": {},
   "outputs": [],
   "source": [
    "class Graph:\n",
    "    def __init__(self, no_of_vertices: int, graph: list = [], nodes: list = []) -> None:\n",
    "        self.noOfVertices = no_of_vertices\n",
    "        self.graph = graph\n",
    "        self.nodes = nodes\n",
    "        self.MST = []\n",
    "    \n",
    "    def add_edge(self, start_node, end_node, weight) -> None:\n",
    "        self.graph.append([start_node, end_node, weight])\n",
    "    \n",
    "    def add_node(self, value) -> None:\n",
    "        self.nodes.append(value)\n",
    "    \n",
    "    def print_solution(self) -> None:\n",
    "        for startNode, endNode, weight in self.MST:\n",
    "            print('%s -> %s: %s' % (startNode, endNode, weight))"
   ]
  },
  {
   "cell_type": "markdown",
   "metadata": {},
   "source": [
    "## Algorithms\n"
   ]
  },
  {
   "cell_type": "markdown",
   "metadata": {},
   "source": [
    "### Kruskal's Algorithm\n"
   ]
  },
  {
   "cell_type": "code",
   "execution_count": 107,
   "metadata": {},
   "outputs": [],
   "source": [
    "def KruskalAlgo(customGraph: Graph) -> None:\n",
    "    i, e = 0, 0\n",
    "\n",
    "    dset = DisjointSet(vertices = customGraph.nodes)\n",
    "    customGraph.graph = sorted(customGraph.graph, key = lambda item: item[2])\n",
    "    while e < customGraph.noOfVertices - 1:\n",
    "        startNode, endNode, weight = customGraph.graph[i]\n",
    "        i += 1\n",
    "        x = dset.find(item = startNode)\n",
    "        y = dset.find(item = endNode)\n",
    "        if x != y:\n",
    "            e += 1\n",
    "            customGraph.MST.append([startNode, endNode, weight])\n",
    "            dset.union(x = x, y = y)\n",
    "    customGraph.print_solution()"
   ]
  },
  {
   "cell_type": "markdown",
   "metadata": {},
   "source": [
    "### Prim's Algorithm\n"
   ]
  },
  {
   "cell_type": "code",
   "execution_count": 108,
   "metadata": {},
   "outputs": [],
   "source": [
    "import math\n",
    "import sys\n",
    "\n",
    "def PrimsAlgo(customGraph: Graph) -> None:\n",
    "    visited = [0] * customGraph.noOfVertices\n",
    "    edgeNum = 0\n",
    "    visited[0] = True\n",
    "    while edgeNum < customGraph.noOfVertices - 1:\n",
    "        min = sys.maxsize\n",
    "        for i in range(customGraph.noOfVertices):\n",
    "            if visited[i]:\n",
    "                for j in range(customGraph.noOfVertices):\n",
    "                    if ((not visited[j]) and customGraph.graph[i][j]):\n",
    "                        if min > customGraph.graph[i][j]:\n",
    "                            min = customGraph.graph[i][j]\n",
    "                            s = i\n",
    "                            d = j\n",
    "        customGraph.MST.append([customGraph.nodes[s], customGraph.nodes[d], customGraph.graph[s][d]])\n",
    "        visited[d] = True\n",
    "        edgeNum += 1\n",
    "    customGraph.print_solution()\n"
   ]
  },
  {
   "cell_type": "markdown",
   "metadata": {},
   "source": [
    "# Main\n"
   ]
  },
  {
   "cell_type": "code",
   "execution_count": 109,
   "metadata": {},
   "outputs": [
    {
     "name": "stdout",
     "output_type": "stream",
     "text": [
      "A -> B: 10\n",
      "B -> D: 5\n",
      "D -> E: 8\n",
      "E -> C: 6\n"
     ]
    }
   ],
   "source": [
    "def makeKruskalGraph() -> Graph:\n",
    "    g = Graph(no_of_vertices = 5)\n",
    "    \n",
    "    g.add_node('A')\n",
    "    g.add_node('B')\n",
    "    g.add_node('C')\n",
    "    g.add_node('D')\n",
    "    g.add_node('E')\n",
    "\n",
    "    g.add_edge(start_node = 'A', end_node = 'B', weight = 5)\n",
    "    g.add_edge(start_node = 'A', end_node = 'C', weight = 13)\n",
    "    g.add_edge(start_node = 'A', end_node = 'E', weight = 15)\n",
    "    \n",
    "    g.add_edge(start_node = 'B', end_node = 'A', weight = 5)\n",
    "    g.add_edge(start_node = 'B', end_node = 'C', weight = 10)\n",
    "    g.add_edge(start_node = 'B', end_node = 'D', weight = 8)\n",
    "    \n",
    "    g.add_edge(start_node = 'C', end_node = 'A', weight = 13)\n",
    "    g.add_edge(start_node = 'C', end_node = 'B', weight = 10)\n",
    "    g.add_edge(start_node = 'C', end_node = 'D', weight = 6)\n",
    "    g.add_edge(start_node = 'C', end_node = 'E', weight = 20)\n",
    "    \n",
    "    g.add_edge(start_node = 'D', end_node = 'B', weight = 8)\n",
    "    g.add_edge(start_node = 'D', end_node = 'C', weight = 6)\n",
    "    \n",
    "    g.add_edge(start_node = 'E', end_node = 'A', weight = 15)\n",
    "    g.add_edge(start_node = 'E', end_node = 'C', weight = 20)\n",
    "\n",
    "    return g\n",
    "\n",
    "def makePrimsGraph() -> Graph:\n",
    "    edges = [[  0,  10, 20, 0,  0],\n",
    "\t\t    [   10, 0,  30, 5,  0],\n",
    "\t\t    [   20, 30, 0,  15, 6],\n",
    "\t\t    [   0,  5,  15, 0,  8],\n",
    "\t\t    [   0,  0,  6,  8,  0]]\n",
    "    \n",
    "    nodes = ['A', 'B', 'C', 'D', 'E']\n",
    "\n",
    "    g = Graph(no_of_vertices = 5, graph = edges, nodes = nodes)\n",
    "\n",
    "    return g\n",
    "    \n",
    "    \n",
    "\n",
    "if __name__ == '__main__':\n",
    "    # vertices1 = ['A', 'B', 'C', 'D', 'E']\n",
    "\n",
    "    # ds = DisjointSet(vertices = vertices1)\n",
    "\n",
    "    # ds.union(x = 'A', y = 'B')\n",
    "    # ds.union(x = 'A', y = 'C')\n",
    "\n",
    "    # print(ds.find(item = 'C'))\n",
    "\n",
    "    # g = makeKruskalGraph()\n",
    "\n",
    "    # KruskalAlgo(customGraph = g)\n",
    "\n",
    "    h = makePrimsGraph()\n",
    "\n",
    "    PrimsAlgo(customGraph = h)\n"
   ]
  }
 ],
 "metadata": {
  "kernelspec": {
   "display_name": "Python 3",
   "language": "python",
   "name": "python3"
  },
  "language_info": {
   "codemirror_mode": {
    "name": "ipython",
    "version": 3
   },
   "file_extension": ".py",
   "mimetype": "text/x-python",
   "name": "python",
   "nbconvert_exporter": "python",
   "pygments_lexer": "ipython3",
   "version": "3.12.2"
  }
 },
 "nbformat": 4,
 "nbformat_minor": 2
}
