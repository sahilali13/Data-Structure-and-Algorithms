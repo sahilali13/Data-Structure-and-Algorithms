{
 "cells": [
  {
   "cell_type": "markdown",
   "metadata": {},
   "source": [
    "# Binary Search Tree\n"
   ]
  },
  {
   "cell_type": "markdown",
   "metadata": {},
   "source": [
    "## Helper\n"
   ]
  },
  {
   "cell_type": "code",
   "execution_count": null,
   "metadata": {},
   "outputs": [],
   "source": [
    "class BSTNode: ...\n",
    "class BST: ...\n",
    "\n",
    "def generate() -> BSTNode:\n",
    "    newBST = BSTNode(data = 70)\n",
    "\n",
    "    BST.insert(rootNode = newBST, data = 50)\n",
    "    BST.insert(rootNode = newBST, data = 90)\n",
    "    BST.insert(rootNode = newBST, data = 30)\n",
    "    BST.insert(rootNode = newBST, data = 60)\n",
    "    BST.insert(rootNode = newBST, data = 80)\n",
    "    BST.insert(rootNode = newBST, data = 100)\n",
    "    BST.insert(rootNode = newBST, data = 20)\n",
    "    BST.insert(rootNode = newBST, data = 40)\n",
    "    BST.insert(rootNode = newBST, data = 95)\n",
    "    BST.insert(rootNode = newBST, data = 10)\n",
    "\n",
    "    return newBST"
   ]
  },
  {
   "cell_type": "markdown",
   "metadata": {},
   "source": [
    "### Linked List Node\n"
   ]
  },
  {
   "cell_type": "code",
   "execution_count": null,
   "metadata": {},
   "outputs": [],
   "source": [
    "class LinkedListNode:\n",
    "    def __init__(self, value):\n",
    "        self.value = value\n",
    "        self.next = None"
   ]
  },
  {
   "cell_type": "markdown",
   "metadata": {},
   "source": [
    "### Linked List\n"
   ]
  },
  {
   "cell_type": "code",
   "execution_count": null,
   "metadata": {},
   "outputs": [],
   "source": [
    "class LinkedList():\n",
    "    def __init__(self):\n",
    "        self.head = None\n",
    "        self.tail = None"
   ]
  },
  {
   "cell_type": "markdown",
   "metadata": {},
   "source": [
    "### Custom Queue\n"
   ]
  },
  {
   "cell_type": "code",
   "execution_count": null,
   "metadata": {},
   "outputs": [],
   "source": [
    "class CustomQueue:\n",
    "    def __init__(self):\n",
    "        self.linkedList = LinkedList()\n",
    "\n",
    "    def __str__(self):\n",
    "        pointer = self.linkedList.head\n",
    "        result = \"\"\n",
    "        while pointer:\n",
    "            result += str(pointer.value) + ' '\n",
    "            pointer = pointer.next\n",
    "        return result\n",
    "    \n",
    "    def isEmpty(self) -> bool:\n",
    "        if self.linkedList.head:\n",
    "            return False\n",
    "        else:\n",
    "            return True\n",
    "        \n",
    "    def enqueue(self, value) -> None:\n",
    "        new_node = LinkedListNode(value = value)\n",
    "        if self.isEmpty():\n",
    "            self.linkedList.head = new_node\n",
    "            self.linkedList.tail = new_node\n",
    "        else:\n",
    "            self.linkedList.tail.next = new_node\n",
    "            self.linkedList.tail = new_node\n",
    "    \n",
    "    def dequeue(self):\n",
    "        if not self.isEmpty():\n",
    "            removed_node_value = self.linkedList.head.value\n",
    "            self.linkedList.head = self.linkedList.head.next\n",
    "            if self.linkedList.head is None:\n",
    "                self.linkedList.tail = None\n",
    "            return removed_node_value\n",
    "        else:\n",
    "            return"
   ]
  },
  {
   "cell_type": "markdown",
   "metadata": {},
   "source": [
    "## Tree Node\n"
   ]
  },
  {
   "cell_type": "code",
   "execution_count": null,
   "metadata": {},
   "outputs": [],
   "source": [
    "class BSTNode:\n",
    "    def __init__(self, data: int):\n",
    "        self.data = data\n",
    "        self.leftChild = None\n",
    "        self.rightChild = None\n",
    "    def __str__(self):\n",
    "        return str(self.data)"
   ]
  },
  {
   "cell_type": "markdown",
   "metadata": {},
   "source": [
    "## BS Tree\n"
   ]
  },
  {
   "cell_type": "code",
   "execution_count": null,
   "metadata": {},
   "outputs": [],
   "source": [
    "class BST:\n",
    "    def insert(rootNode: BSTNode, data: int) -> None:\n",
    "        if data <= rootNode.data:\n",
    "            if rootNode.leftChild is None:\n",
    "                rootNode.leftChild = BSTNode(data = data)\n",
    "                return\n",
    "            else:\n",
    "                BST.insert(\n",
    "                    rootNode = rootNode.leftChild,\n",
    "                    data = data\n",
    "                )\n",
    "        else:\n",
    "            if rootNode.rightChild is None:\n",
    "                rootNode.rightChild = BSTNode(data = data)\n",
    "                return\n",
    "            else:\n",
    "                BST.insert(\n",
    "                    rootNode = rootNode.rightChild,\n",
    "                    data = data\n",
    "                )\n",
    "    \n",
    "    def traversal(rootNode: BSTNode, order: str = \"inorder\") -> None:\n",
    "        if order == 'inorder':\n",
    "            if rootNode:\n",
    "                BST.traversal(rootNode = rootNode.leftChild)\n",
    "                print(rootNode.data, end = ' ')\n",
    "                BST.traversal(rootNode = rootNode.rightChild)\n",
    "\n",
    "        elif order == 'preorder':\n",
    "            if rootNode:\n",
    "                print(rootNode.data, end = ' ')\n",
    "                BST.traversal(rootNode = rootNode.leftChild, order = 'preorder')\n",
    "                BST.traversal(rootNode = rootNode.rightChild, order = 'preorder')\n",
    "        \n",
    "        elif order == 'postorder':\n",
    "            if rootNode:\n",
    "                BST.traversal(rootNode = rootNode.leftChild, order = 'postorder')\n",
    "                BST.traversal(rootNode = rootNode.rightChild, order = 'postorder')\n",
    "                print(rootNode.data, end = ' ')\n",
    "        \n",
    "        elif order == 'levelorder':\n",
    "            if rootNode:\n",
    "                customQueue = CustomQueue()\n",
    "                customQueue.enqueue(value = rootNode)\n",
    "    \n",
    "                while not customQueue.isEmpty():\n",
    "                    root = customQueue.dequeue()\n",
    "                    print(root.data, end = ' ')\n",
    "                    if root.leftChild:\n",
    "                        customQueue.enqueue(value = root.leftChild)\n",
    "                    if root.rightChild:\n",
    "                        customQueue.enqueue(value = root.rightChild)\n",
    "\n",
    "    def search(rootNode: BSTNode, value: int) -> bool:\n",
    "        if value == rootNode.data:\n",
    "            return True\n",
    "        elif value < rootNode.data:\n",
    "            if rootNode.leftChild:\n",
    "                return BST.search(rootNode = rootNode.leftChild, value = value)\n",
    "        else:\n",
    "            if rootNode.rightChild:\n",
    "                return BST.search(rootNode = rootNode.rightChild, value = value)\n",
    "        return False\n",
    "    \n",
    "    def minimum(rootNode: BSTNode) -> BSTNode:\n",
    "        current = rootNode\n",
    "        while current.leftChild:\n",
    "            current = current.leftChild\n",
    "        return current\n",
    "\n",
    "    def delete(rootNode: BSTNode, value: int) -> BSTNode | None:\n",
    "        if not rootNode:\n",
    "            return rootNode\n",
    "        if value < rootNode.data:\n",
    "            rootNode.leftChild = BST.delete(rootNode = rootNode.leftChild, value = value)\n",
    "        elif value > rootNode.data:\n",
    "            rootNode.rightChild = BST.delete(rootNode = rootNode.rightChild, value = value)\n",
    "        else:\n",
    "            if not rootNode.leftChild:\n",
    "                temp = rootNode.rightChild\n",
    "                rootNode = None\n",
    "                return temp\n",
    "            if not rootNode.rightChild:\n",
    "                temp = rootNode.leftChild\n",
    "                rootNode = None\n",
    "                return temp\n",
    "            \n",
    "            temp = BST.minimum(rootNode = rootNode.rightChild)\n",
    "            rootNode.data = temp.data\n",
    "            rootNode.rightChild = BST.delete(rootNode = rootNode.rightChild, value = temp.data)\n",
    "            \n",
    "        return rootNode\n",
    "\n",
    "    def deleteAll(rootNode) -> None:\n",
    "        rootNode.data = None\n",
    "        rootNode.leftChild = None\n",
    "        rootNode.rightChild = None"
   ]
  },
  {
   "cell_type": "markdown",
   "metadata": {},
   "source": [
    "# Main\n"
   ]
  },
  {
   "cell_type": "code",
   "execution_count": null,
   "metadata": {},
   "outputs": [],
   "source": [
    "if __name__ == '__main__':\n",
    "\n",
    "    newBST = generate()\n",
    "\n",
    "    BST.traversal(rootNode = newBST); print(\"\\n\")\n",
    "    \n",
    "    BST.deleteAll(rootNode = newBST)\n",
    "    \n",
    "    BST.traversal(rootNode = newBST); print(\"\\n\")"
   ]
  }
 ],
 "metadata": {
  "kernelspec": {
   "display_name": "Python 3",
   "language": "python",
   "name": "python3"
  },
  "language_info": {
   "codemirror_mode": {
    "name": "ipython",
    "version": 3
   },
   "file_extension": ".py",
   "mimetype": "text/x-python",
   "name": "python",
   "nbconvert_exporter": "python",
   "pygments_lexer": "ipython3",
   "version": "3.12.2"
  }
 },
 "nbformat": 4,
 "nbformat_minor": 2
}
