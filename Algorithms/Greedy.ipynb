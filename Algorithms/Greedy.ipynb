{
 "cells": [
  {
   "cell_type": "markdown",
   "metadata": {},
   "source": [
    "# Greedy Algorithms\n"
   ]
  },
  {
   "cell_type": "markdown",
   "metadata": {},
   "source": [
    "## Activity Selection Problem\n"
   ]
  },
  {
   "cell_type": "code",
   "execution_count": 14,
   "metadata": {},
   "outputs": [
    {
     "name": "stdout",
     "output_type": "stream",
     "text": [
      "A3 | A2 | A5 | A6 | "
     ]
    }
   ],
   "source": [
    "class Activity:\n",
    "    def __init__(self, activity: str, start: int = 0, finish: int = 0) -> None:\n",
    "        self.activity = activity\n",
    "        self.start = start\n",
    "        self.finish = finish\n",
    "\n",
    "def max_activities(activities: list) -> list:\n",
    "    activities.sort(key = lambda x: x.finish)\n",
    "    i = 0\n",
    "    maxActivities = []\n",
    "    firstA = activities[0]\n",
    "    maxActivities.append(firstA)\n",
    "\n",
    "    for j in range(len(activities)):\n",
    "        if activities[j].start > activities[i].finish:\n",
    "            maxActivities.append(activities[j])\n",
    "            i = j\n",
    "\n",
    "    return maxActivities\n",
    "\n",
    "def print_activities(activities: list) -> None:\n",
    "    for _ in activities:\n",
    "        print(_.activity, end = \" | \")\n",
    "\n",
    "if __name__ == '__main__':\n",
    "    activities = [  Activity(activity = 'A1', start = 0, finish = 6),\n",
    "                    Activity(activity = 'A2', start = 3, finish = 4),\n",
    "                    Activity(activity = 'A3', start = 1, finish = 2),\n",
    "                    Activity(activity = 'A4', start = 5, finish = 8),\n",
    "                    Activity(activity = 'A5', start = 5, finish = 7),\n",
    "                    Activity(activity = 'A6', start = 8, finish = 9)\n",
    "                ]\n",
    "\n",
    "    maxActivity = max_activities(activities = activities)\n",
    "    print_activities(activities = maxActivity)\n",
    "    "
   ]
  },
  {
   "cell_type": "markdown",
   "metadata": {},
   "source": [
    "## Coin Change Problem\n"
   ]
  },
  {
   "cell_type": "code",
   "execution_count": 15,
   "metadata": {},
   "outputs": [
    {
     "name": "stdout",
     "output_type": "stream",
     "text": [
      "[100, 100, 1]\n"
     ]
    }
   ],
   "source": [
    "def coin_change(total_amount: int, denominations: list) -> list:\n",
    "    N = total_amount\n",
    "    denominations.sort()\n",
    "    index = len(denominations) - 1\n",
    "    coins = []\n",
    "    while True:\n",
    "        currentDenomination = denominations[index]\n",
    "\n",
    "        if N >= currentDenomination:\n",
    "            coins.append(currentDenomination)\n",
    "            N -= currentDenomination\n",
    "        elif N < currentDenomination:\n",
    "            index -= 1\n",
    "        if N == 0:\n",
    "            return coins\n",
    "\n",
    "if __name__ == '__main__':\n",
    "    denominations = [1, 2, 5, 20, 50, 100]\n",
    "    c = coin_change(total_amount = 201, denominations = denominations)\n",
    "    print(c)"
   ]
  },
  {
   "cell_type": "markdown",
   "metadata": {},
   "source": [
    "## Fractional Knapsack Problem\n"
   ]
  },
  {
   "cell_type": "code",
   "execution_count": 16,
   "metadata": {},
   "outputs": [
    {
     "name": "stdout",
     "output_type": "stream",
     "text": [
      "240.0\n"
     ]
    }
   ],
   "source": [
    "class Item:\n",
    "    def __init__(self, weight:int, value: int) -> None:\n",
    "        self.weight = weight\n",
    "        self.value = value\n",
    "        self.density = value / weight\n",
    "\n",
    "def knapsack(items: list, max_weight: int) -> int:\n",
    "    items.sort(key = lambda x: x.density, reverse = True)\n",
    "    usedCapacity = 0\n",
    "    totalValue = 0\n",
    "    for item in items:\n",
    "        if usedCapacity + item.weight < max_weight:\n",
    "            usedCapacity += item.weight\n",
    "            totalValue += item.value\n",
    "        else:\n",
    "            unusedCapacity = max_weight - usedCapacity\n",
    "            value = item.density * unusedCapacity\n",
    "            usedCapacity += unusedCapacity\n",
    "            totalValue += value\n",
    "\n",
    "        if usedCapacity == max_weight:\n",
    "            break\n",
    "    return totalValue\n",
    "\n",
    "\n",
    "if __name__ == '__main__':\n",
    "    item1 = Item(weight = 20, value = 100)\n",
    "    item2 = Item(weight = 30, value = 120)\n",
    "    item3 = Item(weight = 10, value = 60)\n",
    "\n",
    "    itemList = [item1, item2, item3]\n",
    "\n",
    "    total = knapsack(items = itemList, max_weight = 50)\n",
    "\n",
    "    print(total)\n",
    "\n"
   ]
  }
 ],
 "metadata": {
  "kernelspec": {
   "display_name": "Python 3",
   "language": "python",
   "name": "python3"
  },
  "language_info": {
   "codemirror_mode": {
    "name": "ipython",
    "version": 3
   },
   "file_extension": ".py",
   "mimetype": "text/x-python",
   "name": "python",
   "nbconvert_exporter": "python",
   "pygments_lexer": "ipython3",
   "version": "3.12.2"
  }
 },
 "nbformat": 4,
 "nbformat_minor": 2
}
