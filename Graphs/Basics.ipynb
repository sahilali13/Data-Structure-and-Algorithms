{
 "cells": [
  {
   "cell_type": "markdown",
   "metadata": {},
   "source": [
    "# Graph Basics\n"
   ]
  },
  {
   "cell_type": "markdown",
   "metadata": {},
   "source": [
    "## Using Dictionary\n"
   ]
  },
  {
   "cell_type": "code",
   "execution_count": 133,
   "metadata": {},
   "outputs": [],
   "source": [
    "class DictGraph:\n",
    "    def __init__(self, gdict: dict = None) -> None:\n",
    "        if gdict is None:\n",
    "            gdict = {}\n",
    "        else:\n",
    "            self.gdict = gdict     \n",
    "\n",
    "    def __str__(self) -> str:\n",
    "        result = ''\n",
    "        for key in self.gdict:\n",
    "            result += key + ': ' + ' | '.join(self.gdict[key]) + '\\n'\n",
    "        return result\n",
    "    \n",
    "    def addEdge(self, vertex, edge) -> None:\n",
    "        self.gdict[vertex].append(edge)"
   ]
  },
  {
   "cell_type": "markdown",
   "metadata": {},
   "source": [
    "## Using List\n"
   ]
  },
  {
   "cell_type": "code",
   "execution_count": 134,
   "metadata": {},
   "outputs": [],
   "source": [
    "class ListGraph:\n",
    "    def __init__(self) -> None:\n",
    "        self.adjacencyList = {}\n",
    "    \n",
    "    def __str__(self) -> str:\n",
    "        if len(self.adjacencyList) == 0:\n",
    "            return \"None\"\n",
    "        \n",
    "        result = ''\n",
    "        for key in self.adjacencyList:\n",
    "            result += key + ': ' + \" | \".join(self.adjacencyList[key]) + '\\n'\n",
    "        return result\n",
    "    \n",
    "    def addVertex(self, vertex) -> bool:\n",
    "        if vertex not in self.adjacencyList.keys():\n",
    "            self.adjacencyList[vertex] = []\n",
    "            return True\n",
    "        return False\n",
    "    \n",
    "    def addEdge(self, fromVertex, toVertex) -> bool:\n",
    "        if (fromVertex not in self.adjacencyList.keys()) or (toVertex not in self.adjacencyList.keys()):\n",
    "            return False\n",
    "        else:\n",
    "            if toVertex in self.adjacencyList[fromVertex]:\n",
    "                return False\n",
    "            else:\n",
    "                self.adjacencyList[fromVertex].append(toVertex)\n",
    "                self.adjacencyList[toVertex].append(fromVertex)\n",
    "                return True\n",
    "    \n",
    "    def removeEdge(self, fromVertex, toVertex) -> bool:\n",
    "        if (fromVertex not in self.adjacencyList.keys()) or (toVertex not in self.adjacencyList.keys()):\n",
    "            return False\n",
    "        else:\n",
    "            if toVertex not in self.adjacencyList[fromVertex]:\n",
    "                return False\n",
    "            else:\n",
    "                self.adjacencyList[fromVertex].remove(toVertex)\n",
    "                self.adjacencyList[toVertex].remove(fromVertex)\n",
    "                return True\n",
    "    \n",
    "    def removeVertex(self, vertex) -> bool:\n",
    "        if vertex not in self.adjacencyList.keys():\n",
    "            return False\n",
    "        else:\n",
    "            for toVertex in self.adjacencyList[vertex]:\n",
    "                self.adjacencyList[toVertex].remove(vertex)\n",
    "            del self.adjacencyList[vertex]\n",
    "            return True"
   ]
  },
  {
   "cell_type": "markdown",
   "metadata": {},
   "source": [
    "# Main\n"
   ]
  },
  {
   "cell_type": "code",
   "execution_count": 135,
   "metadata": {},
   "outputs": [
    {
     "name": "stdout",
     "output_type": "stream",
     "text": [
      "a: \n",
      "b: \n",
      "\n"
     ]
    }
   ],
   "source": [
    "if __name__ == '__main__':\n",
    "    customDict = {'a' : ['b', 'c'],\n",
    "                  'b' : ['a', 'd', 'e'],\n",
    "                  'c' : ['a', 'e'],\n",
    "                  'd' : ['b', 'e', 'f'],\n",
    "                  'e' : ['c', 'd', 'f'],\n",
    "                  'f' : ['d', 'e']\n",
    "                  }\n",
    "\n",
    "    newGraph = ListGraph()\n",
    "    newGraph.addVertex(vertex = 'a')\n",
    "    newGraph.addVertex(vertex = 'b')\n",
    "    newGraph.addVertex(vertex = 'c')\n",
    "\n",
    "    newGraph.addEdge(fromVertex = 'a', toVertex = 'b')\n",
    "    newGraph.addEdge(fromVertex = 'c', toVertex = 'b')\n",
    "    newGraph.addEdge(fromVertex = 'a', toVertex = 'c')\n",
    "    \n",
    "    newGraph.removeEdge(fromVertex = 'b', toVertex = 'a')\n",
    "\n",
    "    newGraph.removeVertex(vertex = 'c')\n",
    "    \n",
    "    print(newGraph)"
   ]
  }
 ],
 "metadata": {
  "kernelspec": {
   "display_name": "Python 3",
   "language": "python",
   "name": "python3"
  },
  "language_info": {
   "codemirror_mode": {
    "name": "ipython",
    "version": 3
   },
   "file_extension": ".py",
   "mimetype": "text/x-python",
   "name": "python",
   "nbconvert_exporter": "python",
   "pygments_lexer": "ipython3",
   "version": "3.12.2"
  }
 },
 "nbformat": 4,
 "nbformat_minor": 2
}
