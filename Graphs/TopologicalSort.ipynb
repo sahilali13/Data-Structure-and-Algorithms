{
 "cells": [
  {
   "cell_type": "markdown",
   "metadata": {},
   "source": [
    "# Topological Sort\n"
   ]
  },
  {
   "cell_type": "markdown",
   "metadata": {},
   "source": [
    "## Graph\n"
   ]
  },
  {
   "cell_type": "code",
   "execution_count": null,
   "metadata": {},
   "outputs": [],
   "source": [
    "from collections import defaultdict\n",
    "\n",
    "class Graph:\n",
    "    def __init__(self, noOfVertices: int) -> None:\n",
    "        self.graph = defaultdict(list)\n",
    "        self.noOfVertices = noOfVertices\n",
    "\n",
    "    def addEdge(self, vertex, edge):\n",
    "        self.graph[vertex].append(edge)\n",
    "    \n",
    "    def topologicalSortUtil(self, vertex, visited: list, stack: list):\n",
    "        visited.append(vertex)\n",
    "\n",
    "        for i in self.graph[vertex]:\n",
    "            if i not in visited:\n",
    "                self.topologicalSortUtil(vertex = i, visited = visited, stack = stack)\n",
    "        \n",
    "        stack.insert(0, vertex)\n",
    "    \n",
    "    def topologicalSort(self):\n",
    "        visited = []\n",
    "        stack = []\n",
    "\n",
    "        for i in list(self.graph):\n",
    "            if i not in visited:\n",
    "                self.topologicalSortUtil(vertex = i, visited = visited, stack = stack)\n",
    "        \n",
    "        print(stack)\n"
   ]
  },
  {
   "cell_type": "markdown",
   "metadata": {},
   "source": [
    "# Main\n"
   ]
  },
  {
   "cell_type": "code",
   "execution_count": null,
   "metadata": {},
   "outputs": [],
   "source": [
    "if __name__ == '__main__':\n",
    "    customGraph = Graph(noOfVertices = 8)\n",
    "    customGraph.addEdge(vertex = 'A', edge = 'C')\n",
    "    customGraph.addEdge(vertex = 'B', edge = 'C')\n",
    "    customGraph.addEdge(vertex = 'B', edge = 'D')\n",
    "    customGraph.addEdge(vertex = 'C', edge = 'E')\n",
    "    customGraph.addEdge(vertex = 'E', edge = 'H')\n",
    "    customGraph.addEdge(vertex = 'E', edge = 'F')\n",
    "    customGraph.addEdge(vertex = 'D', edge = 'F')\n",
    "    customGraph.addEdge(vertex = 'F', edge = 'G')\n",
    "\n",
    "    customGraph.topologicalSort()\n",
    "    "
   ]
  }
 ],
 "metadata": {
  "kernelspec": {
   "display_name": "Python 3",
   "language": "python",
   "name": "python3"
  },
  "language_info": {
   "codemirror_mode": {
    "name": "ipython",
    "version": 3
   },
   "file_extension": ".py",
   "mimetype": "text/x-python",
   "name": "python",
   "nbconvert_exporter": "python",
   "pygments_lexer": "ipython3",
   "version": "3.12.2"
  }
 },
 "nbformat": 4,
 "nbformat_minor": 2
}
