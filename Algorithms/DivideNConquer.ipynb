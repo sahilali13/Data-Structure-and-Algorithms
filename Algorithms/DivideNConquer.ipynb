{
 "cells": [
  {
   "cell_type": "markdown",
   "metadata": {},
   "source": [
    "# Divide and Conquer Algorithm\n"
   ]
  },
  {
   "cell_type": "markdown",
   "metadata": {},
   "source": [
    "## Fibonacci Series\n",
    "\n",
    "    Find the nth nunmber in fibonacci series\n"
   ]
  },
  {
   "cell_type": "code",
   "execution_count": null,
   "metadata": {},
   "outputs": [],
   "source": [
    "def fibonacci(number: int) -> int:\n",
    "    if number == 2:\n",
    "        return 1\n",
    "    elif number == 1:\n",
    "        return 0\n",
    "    return fibonacci(number = number - 1) + fibonacci(number = number - 2)\n",
    "\n",
    "if __name__ == '__main__':\n",
    "    print(fibonacci(number = 10))"
   ]
  },
  {
   "cell_type": "markdown",
   "metadata": {},
   "source": [
    "## Number Factor\n",
    "\n",
    "    Given N, find the number of ways to express N as sum of 1,3 and 4\n"
   ]
  },
  {
   "cell_type": "code",
   "execution_count": null,
   "metadata": {},
   "outputs": [],
   "source": [
    "def number_factor(number: int) -> int:\n",
    "    if number in (0 , 1, 2):\n",
    "        return 1\n",
    "    elif number == 3:\n",
    "        return 2\n",
    "    else:\n",
    "        subP1 = number_factor(number = number - 1)\n",
    "        subP2 = number_factor(number = number - 3)\n",
    "        subP3 = number_factor(number = number - 4)\n",
    "        return subP1 + subP2 + subP3\n",
    "    \n",
    "if __name__ == '__main__':\n",
    "    print(number_factor(number = 10))"
   ]
  },
  {
   "cell_type": "markdown",
   "metadata": {},
   "source": [
    "## House Robber\n",
    "\n",
    "    Given N number of houses with some amount of money, find the maximum amount that can be stolen, checking robber cannot steal from adjacent houses.\n"
   ]
  },
  {
   "cell_type": "code",
   "execution_count": null,
   "metadata": {},
   "outputs": [],
   "source": [
    "def house_robber(houses: list, currentIndex: int = 0) -> int:\n",
    "    if currentIndex >= len(houses):\n",
    "        return 0\n",
    "    else:\n",
    "        stealFirstHouse = houses[currentIndex] + house_robber(houses = houses, currentIndex = currentIndex + 2)\n",
    "        skipFirstHouse = house_robber(houses = houses, currentIndex = currentIndex + 1)\n",
    "        return max(stealFirstHouse, skipFirstHouse)\n",
    "\n",
    "if __name__ == '__main__':\n",
    "    houses = [6, 7, 1, 30, 8, 2, 4]\n",
    "    print(house_robber(houses = houses))"
   ]
  },
  {
   "cell_type": "markdown",
   "metadata": {},
   "source": [
    "## Convert String\n",
    "\n",
    "    Given two strings S1 and S2, convert S2 to S1 using delete, insert or replace operations. Find the minimum count of edit operations.\n"
   ]
  },
  {
   "cell_type": "code",
   "execution_count": null,
   "metadata": {},
   "outputs": [],
   "source": [
    "def convert_string(S1: str, S2: str, index1: int = 0, index2: int = 0) -> int:\n",
    "    if index1 == len(S1):\n",
    "        return len(S2) - index2\n",
    "    if index2 == len(S2):\n",
    "        return len(S1) - index1\n",
    "    if S1[index1] == S2[index2]:\n",
    "        return convert_string(S1 = S1, S2 = S2, index1 = index1 + 1, index2 = index2 + 1)\n",
    "    else:\n",
    "        deleteOp = 1 + convert_string(S1 = S1, S2 = S2, index1 = index1, index2 = index2 + 1)\n",
    "        insertOp = 1 + convert_string(S1 = S1, S2 = S2, index1 = index1 + 1, index2 = index2)\n",
    "        replaceOp = 1 + convert_string(S1 = S1, S2 = S2, index1 = index1 + 1, index2 = index2 + 1)\n",
    "        return min(deleteOp, insertOp, replaceOp)\n",
    "\n",
    "if __name__ == '__main__':\n",
    "    s1 = 'table'\n",
    "    s2 = 'tbrltt'\n",
    "    print(convert_string(S1 = s1, S2 = s2))"
   ]
  },
  {
   "cell_type": "markdown",
   "metadata": {},
   "source": [
    "## Zero One Knapsack Problem\n",
    "\n",
    "    Given the weights and profits of the items, find the maximum profit within a given capacity. (Items cannot be broken)\n"
   ]
  },
  {
   "cell_type": "code",
   "execution_count": null,
   "metadata": {},
   "outputs": [],
   "source": [
    "class Item:\n",
    "    def __init__(self, profit: int, weight: int) -> None:\n",
    "        self.profit = profit\n",
    "        self.weight = weight\n",
    "\n",
    "def zero_one_knapsack(items: list, capacity: int, currentIndex: int = 0) -> int:\n",
    "    if capacity <= 0 or currentIndex < 0 or currentIndex >= len(items):\n",
    "        return 0\n",
    "    elif items[currentIndex].weight <= capacity:\n",
    "        profit1 = items[currentIndex].profit + zero_one_knapsack(items = items, \n",
    "                                                                 capacity = capacity - items[currentIndex].weight, \n",
    "                                                                 currentIndex = currentIndex + 1)\n",
    "        profit2 = zero_one_knapsack(items = items, capacity = capacity, currentIndex = currentIndex + 1)\n",
    "        return max(profit1, profit2)\n",
    "    else:\n",
    "        return 0\n",
    "    \n",
    "if __name__ == '__main__':\n",
    "    mango = Item(profit = 31, weight = 3)\n",
    "    apple = Item(profit = 26, weight = 1)\n",
    "    orange = Item(profit = 17, weight = 2)\n",
    "    banana = Item(profit = 72, weight = 5)\n",
    "\n",
    "    fruits = [mango, apple, orange, banana]\n",
    "\n",
    "    print(zero_one_knapsack(items = fruits, capacity = 7))"
   ]
  },
  {
   "cell_type": "markdown",
   "metadata": {},
   "source": [
    "## Longest Common Subsequence\n",
    "\n",
    "    Given two strings S1 and S2, find the length of the longest subsequence\n"
   ]
  },
  {
   "cell_type": "code",
   "execution_count": null,
   "metadata": {},
   "outputs": [],
   "source": [
    "def find_longest_common_subsequence(S1: str, S2: str, index1: int = 0, index2 : int = 0) -> int:\n",
    "    if index1 == len(S1) or index2 == len(S2):\n",
    "        return 0\n",
    "    if S1[index1] == S2[index2]:\n",
    "        return 1 + find_longest_common_subsequence(S1 = S1, S2 = S2, index1 = index1 + 1, index2 = index2 + 1)\n",
    "    else:\n",
    "        option1 = find_longest_common_subsequence(S1 = S1, S2 = S2, index1 = index1, index2 = index2 + 1)\n",
    "        option2 = find_longest_common_subsequence(S1 = S1, S2 = S2, index1 = index1 + 1, index2 = index2)\n",
    "        return max(option1 , option2)\n",
    "    \n",
    "if __name__ == '__main__':\n",
    "    str1 = 'elephant'\n",
    "    str2 = 'erepat'\n",
    "\n",
    "    print(find_longest_common_subsequence(S1 = str1, S2 = str2))"
   ]
  },
  {
   "cell_type": "markdown",
   "metadata": {},
   "source": [
    "## Longest Palindromic Subsequence (LPS)\n",
    "\n",
    "    Given a string S, find the length of the longest palindromic subsequence\n"
   ]
  },
  {
   "cell_type": "code",
   "execution_count": null,
   "metadata": {},
   "outputs": [],
   "source": [
    "def longest_palindromic_subsequence(S: str, end_index: int, start_index: int = 0) -> int:\n",
    "    if start_index > end_index:\n",
    "        return 0\n",
    "    elif start_index == end_index:\n",
    "        return 1\n",
    "    elif S[start_index] == S[end_index]:\n",
    "        return 2 + longest_palindromic_subsequence(S = S, start_index = start_index + 1, end_index = end_index - 1)\n",
    "    else:\n",
    "        option1 = longest_palindromic_subsequence(S = S, start_index = start_index, end_index = end_index - 1)\n",
    "        option2 = longest_palindromic_subsequence(S = S, start_index = start_index + 1, end_index = end_index)\n",
    "        return max(option1, option2)\n",
    "\n",
    "if __name__ == '__main__':\n",
    "    s = 'ELRMENMET'\n",
    "    print(longest_palindromic_subsequence(S = s, end_index = len(s) - 1))"
   ]
  },
  {
   "cell_type": "markdown",
   "metadata": {},
   "source": [
    "## Minimum cost to last cell\n",
    "\n",
    "    Given a 2D matrix, go from (0, 0) to (n-1, n-1), find the minimum Cost. We can only travel down or right.\n"
   ]
  },
  {
   "cell_type": "code",
   "execution_count": null,
   "metadata": {},
   "outputs": [],
   "source": [
    "import math\n",
    "\n",
    "def minimum_cost(matrix: list, row: int, col: int) -> int:\n",
    "    if row == -1 or col == -1:\n",
    "        return math.inf\n",
    "    elif row == 0 and col == 0:\n",
    "        return matrix[row][col]\n",
    "    else:\n",
    "        option1 = minimum_cost(matrix = matrix, row = row - 1, col = col)\n",
    "        option2 = minimum_cost(matrix = matrix, row = row, col = col - 1)\n",
    "        return matrix[row][col] + min(option1, option2)\n",
    "\n",
    "if __name__ == '__main__':\n",
    "    matrix = [[ 4, 7, 8, 6, 4],\n",
    "              [ 6, 7, 3, 9, 2],\n",
    "              [ 3, 8, 1, 2, 4],\n",
    "              [ 7, 1, 7, 3, 7],\n",
    "              [ 2, 9, 8, 9, 3]\n",
    "              ]\n",
    "    \n",
    "    print(minimum_cost(matrix = matrix, row = len(matrix) - 1 , col = len(matrix[0]) - 1))"
   ]
  },
  {
   "cell_type": "markdown",
   "metadata": {},
   "source": [
    "## Find paths to reach last cell with given cost\n",
    "\n",
    "    Given a matrix M, find out the number of ways to reach the last cell within a given total cost. We can move only down or right.\n"
   ]
  },
  {
   "cell_type": "code",
   "execution_count": null,
   "metadata": {},
   "outputs": [],
   "source": [
    "def no_of_paths(matrix: list, total_cost: int, row: int, col: int) -> int:\n",
    "    if total_cost < 0:\n",
    "        return 0\n",
    "    elif row == 0 and col == 0:\n",
    "        if matrix[row][col] - total_cost == 0:\n",
    "            return 1\n",
    "        else:\n",
    "            return 0\n",
    "    elif row == 0:\n",
    "        return no_of_paths(matrix = matrix, total_cost = total_cost - matrix[row][col], row = 0, col = col - 1)\n",
    "    elif col == 0:\n",
    "        return no_of_paths(matrix = matrix, total_cost = total_cost - matrix[row][col], row = row - 1, col = 0)\n",
    "    else:\n",
    "        option1 = no_of_paths(matrix = matrix, total_cost = total_cost - matrix[row][col], row = row - 1, col = col)\n",
    "        option2 = no_of_paths(matrix = matrix, total_cost = total_cost - matrix[row][col], row = row, col = col - 1)\n",
    "        return option1 + option2\n",
    "\n",
    "\n",
    "if __name__ == '__main__':\n",
    "    M = [[  4, 7, 1, 6],\n",
    "         [  5, 7, 3, 9],\n",
    "         [  3, 2, 1, 2],\n",
    "         [  7, 1, 6, 3]]\n",
    "    \n",
    "    print(no_of_paths(matrix = M, total_cost = 25, row = len(M) - 1, col = len(M[0]) - 1))\n",
    "    "
   ]
  },
  {
   "cell_type": "markdown",
   "metadata": {},
   "source": [
    "## Longest Repeated Subsequence Length\n",
    "\n",
    "    Create a function to find the length of Longest Repeated Subsequence. The longest repeated subsequence (LRS) is the longest subsequence of a string that occurs at least twice.\n"
   ]
  },
  {
   "cell_type": "code",
   "execution_count": null,
   "metadata": {},
   "outputs": [],
   "source": [
    "def LRSLength(X: str, m: int, n: int) -> int:      # m, n is length of X\n",
    "\n",
    "    if m == 0 or n == 0:\n",
    "        return 0\n",
    "    \n",
    "    if X[m - 1] == X[n - 1] and m != n:\n",
    "        return 1 + LRSLength(X = X, m = m - 1, n = n - 1)\n",
    "    else:\n",
    "        return max(LRSLength(X = X, m = m - 1, n = n), LRSLength(X = X, m = m, n = n - 1))\n",
    "\n",
    "if __name__ == '__main__':\n",
    "    S = 'ATAKTKGGA'\n",
    "    print(LRSLength(S, 9, 9))"
   ]
  },
  {
   "cell_type": "markdown",
   "metadata": {},
   "source": [
    "## Shortest Common Supersequence Problem\n",
    "\n",
    "    The shortest common super sequence (SCS) is the problem of finding the shortest super sequence supSeq of given sequences S1 and S2 such that both these sequences are subseqeunce of supSeq.\n"
   ]
  },
  {
   "cell_type": "code",
   "execution_count": null,
   "metadata": {},
   "outputs": [],
   "source": [
    "def SCSLength(S1: str, S2: str, lenS1: int, lenS2: int) -> int:\n",
    "    if lenS1 == 0 or lenS2 == 0:\n",
    "        return lenS1 + lenS2\n",
    "    elif S1[lenS1 - 1] == S2[lenS2 - 1]:\n",
    "        return 1 + SCSLength(S1 = S1, S2 = S2, lenS1 = lenS1 - 1, lenS2 = lenS2 - 1)\n",
    "    else:\n",
    "        return min(SCSLength(S1 = S1, S2 = S2, lenS1 = lenS1, lenS2 = lenS2 - 1) + 1, \n",
    "                   SCSLength(S1 = S1, S2 = S2, lenS1 = lenS1 - 1, lenS2 = lenS2) + 1)\n",
    "\n",
    "if __name__ == '__main__':\n",
    "    S1 = \"ABCBDAB\"\n",
    "    S2 = \"BDCABA\"\n",
    " \n",
    "    ans = SCSLength(S1, S2, len(S1), len(S2))\n",
    "    print(ans)"
   ]
  },
  {
   "cell_type": "markdown",
   "metadata": {},
   "source": [
    "## Subset Sum Problem\n",
    "\n",
    "    Given a set of non-negative integers, and a value sum, determine if there is a subset of the given set with sum equal to given sum.\n"
   ]
  },
  {
   "cell_type": "code",
   "execution_count": null,
   "metadata": {},
   "outputs": [],
   "source": [
    "def isSubsetSum(set: list, n: int, sum: int) -> bool:\n",
    "    index = n - 1\n",
    "\n",
    "    if sum == 0:\n",
    "        return True\n",
    "    \n",
    "    if index < 0:\n",
    "        return False\n",
    "    \n",
    "    number = set[index]\n",
    "\n",
    "    if number <= sum:\n",
    "\n",
    "        case1 = True and isSubsetSum(set = set, n = n - 1, sum = sum - number)\n",
    "        case2 = isSubsetSum(set = set, n = n - 1, sum = sum)\n",
    "\n",
    "        return case1 or case2\n",
    "    \n",
    "    else:\n",
    "        return isSubsetSum(set = set, n = n - 1, sum = sum)\n",
    "\n",
    "\n",
    "if __name__ == '__main__':\n",
    "    customSet = [3, 34, 4, 12, 5, 2]\n",
    "    customSum = 30\n",
    "\n",
    "    ans = isSubsetSum(set = customSet, n = len(customSet), sum = customSum)\n",
    "    print(ans)"
   ]
  }
 ],
 "metadata": {
  "kernelspec": {
   "display_name": "Python 3",
   "language": "python",
   "name": "python3"
  },
  "language_info": {
   "codemirror_mode": {
    "name": "ipython",
    "version": 3
   },
   "file_extension": ".py",
   "mimetype": "text/x-python",
   "name": "python",
   "nbconvert_exporter": "python",
   "pygments_lexer": "ipython3",
   "version": "3.12.2"
  }
 },
 "nbformat": 4,
 "nbformat_minor": 2
}
