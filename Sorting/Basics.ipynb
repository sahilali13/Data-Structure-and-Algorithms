{
 "cells": [
  {
   "cell_type": "markdown",
   "metadata": {},
   "source": [
    "# Sorting\n"
   ]
  },
  {
   "cell_type": "markdown",
   "metadata": {},
   "source": [
    "## Helper\n"
   ]
  },
  {
   "cell_type": "code",
   "execution_count": 273,
   "metadata": {},
   "outputs": [],
   "source": [
    "import math"
   ]
  },
  {
   "cell_type": "markdown",
   "metadata": {},
   "source": [
    "## Bubble Sort\n"
   ]
  },
  {
   "cell_type": "code",
   "execution_count": 274,
   "metadata": {},
   "outputs": [],
   "source": [
    "\n",
    "def bubbleSort(array: list, reverse: bool = False) -> list:\n",
    "    lenArray = len(array)\n",
    "    for i in range(lenArray - 1):\n",
    "        isSwapped = False\n",
    "        for j in range(lenArray - i - 1):\n",
    "            if array[j] < array[j + 1] and reverse:\n",
    "                array[j], array[j + 1] = array[j + 1], array[j]\n",
    "                isSwapped = True\n",
    "            elif array[j] > array[j + 1] and not reverse:\n",
    "                    array[j], array[j + 1] = array[j + 1], array[j]\n",
    "                    isSwapped = True\n",
    "        if not isSwapped:\n",
    "            break\n",
    "\n",
    "    return array"
   ]
  },
  {
   "cell_type": "markdown",
   "metadata": {},
   "source": [
    "## Selection Sort\n"
   ]
  },
  {
   "cell_type": "code",
   "execution_count": 275,
   "metadata": {},
   "outputs": [],
   "source": [
    "def selectionSort(array: list, reverse: bool = False) -> list:\n",
    "    lenArray = len(array)\n",
    "    for i in range(lenArray):\n",
    "        index = i\n",
    "        for j in range(i + 1, lenArray):\n",
    "            if array[index] > array[j] and not reverse:\n",
    "                index = j\n",
    "            elif array[index] < array[j] and reverse:\n",
    "                index = j\n",
    "        array[i], array[index] = array[index], array[i]\n",
    "    return array"
   ]
  },
  {
   "cell_type": "markdown",
   "metadata": {},
   "source": [
    "## Insertion Sort\n"
   ]
  },
  {
   "cell_type": "code",
   "execution_count": 276,
   "metadata": {},
   "outputs": [],
   "source": [
    "def insertionSort(array: list, reverse: bool = False) -> list:\n",
    "    lenArray = len(array)\n",
    "    for i in range(1, lenArray):\n",
    "        key = array[i]\n",
    "        j = i - 1\n",
    "\n",
    "        if reverse:\n",
    "            while j >= 0 and key > array[j]:\n",
    "                array[j + 1] = array[j]\n",
    "                j -= 1\n",
    "        else:\n",
    "            while j >= 0 and key < array[j]:\n",
    "                array[j + 1] = array[j]\n",
    "                j -= 1\n",
    "        array[j + 1] = key\n",
    "        \n",
    "    return array"
   ]
  },
  {
   "cell_type": "markdown",
   "metadata": {},
   "source": [
    "## Bucket Sort\n"
   ]
  },
  {
   "cell_type": "code",
   "execution_count": 277,
   "metadata": {},
   "outputs": [],
   "source": [
    "def bucketSort(array: list, reverse: bool = False, negative: bool = False) -> list:\n",
    "        noOfBuckets = round(math.sqrt(len(array)))\n",
    "        maxValue = max(array)\n",
    "\n",
    "        buckets = [[] for _ in range(noOfBuckets)]\n",
    "\n",
    "        if not negative:\n",
    "            \n",
    "            for i in array:\n",
    "                index_b = math.ceil(i * noOfBuckets / maxValue)\n",
    "                buckets[index_b - 1].append(i)\n",
    "\n",
    "            for i in range(noOfBuckets):\n",
    "                buckets[i] = insertionSort(array = buckets[i], reverse = reverse)\n",
    "            \n",
    "            k = 0\n",
    "            if reverse:\n",
    "                buckets = insertionSort(array = buckets, reverse = reverse)\n",
    "\n",
    "            for i in range(noOfBuckets):\n",
    "                for j in range(len(buckets[i])):\n",
    "                    array[k] = buckets[i][j]\n",
    "                    k += 1\n",
    "            return array\n",
    "\n",
    "        else:\n",
    "            minValue = min(array)\n",
    "            rangeVal = (maxValue - minValue) / noOfBuckets\n",
    "\n",
    "            for j in array:\n",
    "                if j == maxValue:\n",
    "                    buckets[-1].append(j)\n",
    "                else:\n",
    "                    index_b = math.floor((j - minValue) / rangeVal)\n",
    "                    buckets[index_b].append(j)\n",
    "            \n",
    "            sorted_array = []\n",
    "            for i in range(noOfBuckets):\n",
    "                buckets[i] = insertionSort(buckets[i])\n",
    "                sorted_array.extend(buckets[i])\n",
    "            \n",
    "            return sorted_array             "
   ]
  },
  {
   "cell_type": "markdown",
   "metadata": {},
   "source": [
    "## Merge Sort\n"
   ]
  },
  {
   "cell_type": "code",
   "execution_count": 278,
   "metadata": {},
   "outputs": [],
   "source": [
    "def merge(customList: list, first_index: int, mid_index: int, last_index: int, reverse: bool = False) -> list:\n",
    "    n1 = mid_index - first_index + 1\n",
    "    n2 = last_index - mid_index\n",
    "\n",
    "    L = [0] * (n1)\n",
    "    R = [0] * (n2)\n",
    "\n",
    "    for _ in range(0, n1):\n",
    "        L[_] = customList[first_index + _]\n",
    "    \n",
    "    for _ in range(n2):\n",
    "        R[_] = customList[mid_index + 1 + _]\n",
    "\n",
    "    i = 0\n",
    "    j = 0\n",
    "    k = first_index\n",
    "\n",
    "    while i < n1 and j < n2:\n",
    "        if not reverse:\n",
    "            if L[i] <= R[j]:\n",
    "                customList[k] = L[i]\n",
    "                i += 1\n",
    "            else:\n",
    "                customList[k] = R[j]\n",
    "                j += 1\n",
    "        else:\n",
    "            if L[i] >= R[j]:\n",
    "                customList[k] = L[i]\n",
    "                i += 1\n",
    "            else:\n",
    "                customList[k] = R[j]\n",
    "                j += 1\n",
    "        k += 1\n",
    "    \n",
    "    while i < n1:\n",
    "        customList[k] = L[i]\n",
    "        i += 1\n",
    "        k += 1\n",
    "\n",
    "    while j < n1:\n",
    "        customList[k] = R[j]\n",
    "        j += 1\n",
    "        k += 1\n",
    "\n",
    "def mergeSort(customList: list, first_index: int, last_index: int, reverse:bool = False) -> list:\n",
    "    if first_index < last_index:\n",
    "        mid = (first_index + (last_index) - 1) // 2\n",
    "        mergeSort(customList = customList, first_index = first_index, last_index = mid, reverse = reverse)\n",
    "        mergeSort(customList = customList, first_index = mid + 1, last_index = last_index, reverse = reverse)\n",
    "        merge(customList = customList, first_index = first_index, mid_index = mid, last_index = last_index, reverse = reverse)\n",
    "\n"
   ]
  },
  {
   "cell_type": "markdown",
   "metadata": {},
   "source": [
    "## Quick Sort\n"
   ]
  },
  {
   "cell_type": "code",
   "execution_count": 279,
   "metadata": {},
   "outputs": [],
   "source": [
    "def swap(myList: list, index1: int, index2: int) -> None:\n",
    "    myList[index1], myList[index2] = myList[index2], myList[index1]\n",
    "\n",
    "def pivot(my_list: list, pivotIndex: int, endIndex: int, reverse: bool = False) -> int:\n",
    "    swap_index = pivotIndex\n",
    "\n",
    "    for i in range(pivotIndex + 1, endIndex + 1):\n",
    "        if not reverse:\n",
    "            if my_list[i] < my_list[pivotIndex]:\n",
    "                swap_index += 1\n",
    "                swap(myList = my_list, index1 = swap_index, index2 = i)\n",
    "        else:\n",
    "            if my_list[i] > my_list[pivotIndex]:\n",
    "                swap_index += 1\n",
    "                swap(myList = my_list, index1 = swap_index, index2 = i)\n",
    "\n",
    "    swap(myList = my_list, index1 = pivotIndex, index2 = swap_index)\n",
    "    return swap_index\n",
    "\n",
    "def quickSort(my_list: list, left_index: int, right_index: int, reverse: bool = False) -> list:\n",
    "    if left_index < right_index:\n",
    "        pivot_index = pivot(my_list = my_list, pivotIndex = left_index, endIndex = right_index, reverse = reverse)\n",
    "        quickSort(my_list = my_list, left_index = left_index, right_index = pivot_index - 1, reverse = reverse)\n",
    "        quickSort(my_list = my_list, left_index = pivot_index + 1, right_index = right_index, reverse = reverse)\n",
    "    \n"
   ]
  },
  {
   "cell_type": "markdown",
   "metadata": {},
   "source": [
    "## Heap Sort\n"
   ]
  },
  {
   "cell_type": "code",
   "execution_count": 280,
   "metadata": {},
   "outputs": [],
   "source": [
    "def heapify(customList: list, noOfElement: int, index: int) -> None:\n",
    "    smallest = index\n",
    "\n",
    "    left_child = 2 * index + 1\n",
    "    right_child = 2 * index + 2\n",
    "\n",
    "    if left_child < noOfElement and customList[left_child] < customList[smallest]:\n",
    "        smallest = left_child\n",
    "    \n",
    "    if right_child < noOfElement and customList[right_child] < customList[smallest]:\n",
    "        smallest = right_child\n",
    "    \n",
    "    if smallest != index:\n",
    "        customList[index], customList[smallest] = customList[smallest], customList[index]\n",
    "        heapify(customList = customList, noOfElement = noOfElement, index = smallest)\n",
    "\n",
    "def heapSort(customList: list, reverse: bool = False):\n",
    "    noOfElement = len(customList)\n",
    "\n",
    "    for i in range(int(noOfElement / 2) - 1, -1, -1):\n",
    "        heapify(customList = customList, noOfElement = noOfElement, index = i)\n",
    "    \n",
    "    for i in range(noOfElement - 1, 0, -1):\n",
    "        customList[i], customList[0] = customList[0], customList[i]\n",
    "        heapify(customList = customList, noOfElement = i, index = 0)\n",
    "    \n",
    "    if not reverse:\n",
    "        customList.reverse()"
   ]
  },
  {
   "cell_type": "markdown",
   "metadata": {},
   "source": [
    "# Main\n"
   ]
  },
  {
   "cell_type": "code",
   "execution_count": 281,
   "metadata": {},
   "outputs": [],
   "source": [
    "if __name__ == '__main__':\n",
    "    newList = [3, 5, 0, 6, 2, 1, 4]\n",
    "\n",
    "    heapSort(customList = newList, reverse = True)"
   ]
  }
 ],
 "metadata": {
  "kernelspec": {
   "display_name": "Python 3",
   "language": "python",
   "name": "python3"
  },
  "language_info": {
   "codemirror_mode": {
    "name": "ipython",
    "version": 3
   },
   "file_extension": ".py",
   "mimetype": "text/x-python",
   "name": "python",
   "nbconvert_exporter": "python",
   "pygments_lexer": "ipython3",
   "version": "3.12.2"
  }
 },
 "nbformat": 4,
 "nbformat_minor": 2
}
