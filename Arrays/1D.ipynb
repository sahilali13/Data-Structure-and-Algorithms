{
 "cells": [
  {
   "cell_type": "markdown",
   "metadata": {},
   "source": [
    "# 1-Dimensional Arrays\n"
   ]
  },
  {
   "cell_type": "markdown",
   "metadata": {},
   "source": [
    "## Required Libraries\n"
   ]
  },
  {
   "cell_type": "code",
   "execution_count": null,
   "metadata": {},
   "outputs": [],
   "source": [
    "import numpy as np\n",
    "import array"
   ]
  },
  {
   "cell_type": "markdown",
   "metadata": {},
   "source": [
    "## Initialization\n"
   ]
  },
  {
   "cell_type": "markdown",
   "metadata": {},
   "source": [
    "### Empty Initialization\n"
   ]
  },
  {
   "cell_type": "code",
   "execution_count": null,
   "metadata": {},
   "outputs": [],
   "source": [
    "\n",
    "a = array.array('i')\n",
    "print(a)\n",
    "\n",
    "a = np.array([], dtype=int)\n",
    "print(a)"
   ]
  },
  {
   "cell_type": "markdown",
   "metadata": {},
   "source": [
    "### With Values\n"
   ]
  },
  {
   "cell_type": "code",
   "execution_count": null,
   "metadata": {},
   "outputs": [],
   "source": [
    "a = array.array('i', [1, 2, 3])\n",
    "print(a)\n",
    "\n",
    "a = np.array([1, 2, 3, 4])\n",
    "print(a)"
   ]
  },
  {
   "cell_type": "markdown",
   "metadata": {},
   "source": [
    "## Insertion\n"
   ]
  },
  {
   "cell_type": "code",
   "execution_count": null,
   "metadata": {},
   "outputs": [],
   "source": [
    "a = array.array('i')\n",
    "a.insert(0, 1)\n",
    "print(a)\n",
    "\n",
    "a = np.array(object = [], dtype = int)\n",
    "a = np.insert(arr = a, obj = 0, values = 1)\n",
    "print(a)"
   ]
  },
  {
   "cell_type": "markdown",
   "metadata": {},
   "source": [
    "## Traversal\n"
   ]
  },
  {
   "cell_type": "code",
   "execution_count": null,
   "metadata": {},
   "outputs": [],
   "source": [
    "def traverseArray(array):\n",
    "    for _ in array:\n",
    "        print(_)\n",
    "\n",
    "a = array.array('i', [1, 2, 3])\n",
    "traverseArray(array = a)\n",
    "\n",
    "a = np.array([1, 2, 3, 4])\n",
    "traverseArray(array = a)"
   ]
  },
  {
   "cell_type": "markdown",
   "metadata": {},
   "source": [
    "## Access\n"
   ]
  },
  {
   "cell_type": "code",
   "execution_count": null,
   "metadata": {},
   "outputs": [],
   "source": [
    "def accessElement(array, index):\n",
    "    if index >= len(array):\n",
    "        print(\"Not a valid index\")\n",
    "    else:\n",
    "        print(array[index])\n",
    "\n",
    "a = array.array('i', [1, 2, 3, 4])\n",
    "accessElement(array = a, index = 4)\n",
    "accessElement(array = a, index = 3)\n",
    "\n",
    "a = np.array([1, 2, 3, 4])\n",
    "accessElement(array = a, index = 4)\n",
    "accessElement(array = a, index = 3)"
   ]
  },
  {
   "cell_type": "markdown",
   "metadata": {},
   "source": [
    "## Search\n"
   ]
  },
  {
   "cell_type": "code",
   "execution_count": null,
   "metadata": {},
   "outputs": [],
   "source": [
    "def linear_search(array, value):\n",
    "    for _ in range(len(array)):\n",
    "        if array[_] == value:\n",
    "            return _\n",
    "    return -1\n",
    "\n",
    "a = array.array('i', [1, 2, 3, 4])\n",
    "linear_search(array = a, value = 3)\n",
    "\n",
    "a = np.array([1, 2, 3, 4])\n",
    "linear_search(array = a, value = 3)"
   ]
  },
  {
   "cell_type": "markdown",
   "metadata": {},
   "source": [
    "## Deletion\n"
   ]
  },
  {
   "cell_type": "code",
   "execution_count": null,
   "metadata": {},
   "outputs": [],
   "source": [
    "\n",
    "a = array.array('i', [1, 2, 3, 4])\n",
    "a.remove(1)\n",
    "print(a)\n",
    "\n",
    "a = np.array([1, 2, 3, 4])\n",
    "a = np.delete(arr = a, obj = 0)\n",
    "print(a)"
   ]
  }
 ],
 "metadata": {
  "kernelspec": {
   "display_name": "Python 3",
   "language": "python",
   "name": "python3"
  },
  "language_info": {
   "codemirror_mode": {
    "name": "ipython",
    "version": 3
   },
   "file_extension": ".py",
   "mimetype": "text/x-python",
   "name": "python",
   "nbconvert_exporter": "python",
   "pygments_lexer": "ipython3",
   "version": "3.10.0"
  }
 },
 "nbformat": 4,
 "nbformat_minor": 2
}
