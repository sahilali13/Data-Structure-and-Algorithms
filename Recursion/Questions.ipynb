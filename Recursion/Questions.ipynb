{
 "cells": [
  {
   "cell_type": "markdown",
   "metadata": {},
   "source": [
    "# Questions\n"
   ]
  },
  {
   "cell_type": "markdown",
   "metadata": {},
   "source": [
    "## Sum of digits of a positive integer\n"
   ]
  },
  {
   "cell_type": "code",
   "execution_count": null,
   "metadata": {},
   "outputs": [],
   "source": [
    "def sumDigits(number):\n",
    "    if number < 0 or int(number) != number:\n",
    "        return \"Error\"\n",
    "    elif number == 0:\n",
    "        return 0\n",
    "    else:\n",
    "        return (number % 10) + sumDigits(number = (number // 10))"
   ]
  },
  {
   "cell_type": "markdown",
   "metadata": {},
   "source": [
    "## Power of a number\n"
   ]
  },
  {
   "cell_type": "code",
   "execution_count": null,
   "metadata": {},
   "outputs": [],
   "source": [
    "def power(base, exponent):\n",
    "    if exponent < 0 or int(exponent) != exponent:\n",
    "        return \"Error\"\n",
    "    elif exponent == 0:\n",
    "        return 1\n",
    "    return base * power(base = base, exponent = exponent - 1)"
   ]
  },
  {
   "cell_type": "markdown",
   "metadata": {},
   "source": [
    "## GCD\n"
   ]
  },
  {
   "cell_type": "code",
   "execution_count": null,
   "metadata": {},
   "outputs": [],
   "source": [
    "def gcd(A, B):\n",
    "    if int(A) != A or int(B) != B or (A == 0 and B == 0):\n",
    "        return \"Error\"\n",
    "    elif A == 0:\n",
    "        return abs(B)\n",
    "    elif  B == 0:\n",
    "        return abs(A)\n",
    "    else:\n",
    "        divisor = abs(A)\n",
    "        dividend = abs(B)\n",
    "\n",
    "        remainder = dividend % divisor\n",
    "\n",
    "        if remainder == 0:\n",
    "            return divisor\n",
    "        else:\n",
    "            return gcd(A = remainder, B = divisor)"
   ]
  },
  {
   "cell_type": "markdown",
   "metadata": {},
   "source": [
    "## Convert Poisitive Decimal to binary\n"
   ]
  },
  {
   "cell_type": "code",
   "execution_count": null,
   "metadata": {},
   "outputs": [],
   "source": [
    "def decimalBinary(number):\n",
    "\n",
    "    if int(number) != number:\n",
    "         return \"Error\"\n",
    "    \n",
    "    quotient = number // 2\n",
    "    remainder = number % 2\n",
    "\n",
    "    if quotient == 0:\n",
    "        return remainder\n",
    "    else:\n",
    "        return remainder + 10 * decimalBinary(number = quotient)\n"
   ]
  },
  {
   "cell_type": "markdown",
   "metadata": {},
   "source": [
    "# Main\n"
   ]
  },
  {
   "cell_type": "code",
   "execution_count": null,
   "metadata": {},
   "outputs": [],
   "source": [
    "print(int(decimalBinary(number = 13)))"
   ]
  }
 ],
 "metadata": {
  "kernelspec": {
   "display_name": "Python 3",
   "language": "python",
   "name": "python3"
  },
  "language_info": {
   "codemirror_mode": {
    "name": "ipython",
    "version": 3
   },
   "file_extension": ".py",
   "mimetype": "text/x-python",
   "name": "python",
   "nbconvert_exporter": "python",
   "pygments_lexer": "ipython3",
   "version": "3.12.2"
  }
 },
 "nbformat": 4,
 "nbformat_minor": 2
}
