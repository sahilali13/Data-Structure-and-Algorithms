{
 "cells": [
  {
   "cell_type": "markdown",
   "metadata": {},
   "source": [
    "# Single Source Shortest Path\n"
   ]
  },
  {
   "cell_type": "markdown",
   "metadata": {},
   "source": [
    "## Breadth First Search\n"
   ]
  },
  {
   "cell_type": "markdown",
   "metadata": {},
   "source": [
    "### Graph\n"
   ]
  },
  {
   "cell_type": "code",
   "execution_count": null,
   "metadata": {},
   "outputs": [],
   "source": [
    "class Graph:\n",
    "    def __init__(self, gdict: dict = None) -> None:\n",
    "        if gdict is None:\n",
    "            gdict = {}\n",
    "        self.gdict = gdict"
   ]
  },
  {
   "cell_type": "markdown",
   "metadata": {},
   "source": [
    "### BFS\n"
   ]
  },
  {
   "cell_type": "code",
   "execution_count": null,
   "metadata": {},
   "outputs": [],
   "source": [
    "def bfs(graph: Graph, start, end):\n",
    "    queue = []\n",
    "    queue.append([start])\n",
    "    while queue:\n",
    "        path = queue.pop(0)\n",
    "        node = path[-1]\n",
    "        if node == end:\n",
    "            return path\n",
    "        for adjacent in graph.gdict.get(node, []):\n",
    "            new_path = list(path)\n",
    "            new_path.append(adjacent)\n",
    "            queue.append(new_path)"
   ]
  },
  {
   "cell_type": "markdown",
   "metadata": {},
   "source": [
    "## Dijkstra's Algorithm\n"
   ]
  },
  {
   "cell_type": "markdown",
   "metadata": {},
   "source": [
    "### Edge\n"
   ]
  },
  {
   "cell_type": "code",
   "execution_count": null,
   "metadata": {},
   "outputs": [],
   "source": [
    "class Node: ...\n",
    "\n",
    "class DEdge:\n",
    "    def __init__(self, weight: int, start_vertex: Node, target_vertex: Node) -> None:\n",
    "        self.weight = weight\n",
    "        self.startVertex = start_vertex\n",
    "        self.targetVertex = target_vertex"
   ]
  },
  {
   "cell_type": "markdown",
   "metadata": {},
   "source": [
    "### Node\n"
   ]
  },
  {
   "cell_type": "code",
   "execution_count": null,
   "metadata": {},
   "outputs": [],
   "source": [
    "import math\n",
    "\n",
    "class DNode:\n",
    "    def __init__(self, name: str) -> None:\n",
    "        self.name = name\n",
    "        self.visited = False\n",
    "        self.preDecessor = None\n",
    "        self.neighbors = []\n",
    "        self.minDistance = math.inf\n",
    "    \n",
    "    def __lt__(self, other_node: Node) -> bool:\n",
    "        return self.minDistance < other_node.minDistance\n",
    "\n",
    "    def add_edge(self, weight, destination_vertex) -> None:\n",
    "        edge = DEdge(weight = weight, start_vertex = self, target_vertex = destination_vertex)\n",
    "        self.neighbors.append(edge)"
   ]
  },
  {
   "cell_type": "markdown",
   "metadata": {},
   "source": [
    "### Dijkstra's Algorithm\n"
   ]
  },
  {
   "cell_type": "code",
   "execution_count": null,
   "metadata": {},
   "outputs": [],
   "source": [
    "import heapq\n",
    "\n",
    "\n",
    "class Dijkstra:\n",
    "    def __init__(self) -> None:\n",
    "        self.heap = []\n",
    "    \n",
    "    def calculate(self, start_vertex: Node) -> None:\n",
    "        start_vertex.minDistance = 0\n",
    "        heapq.heappush(self.heap, start_vertex)\n",
    "        while self.heap:\n",
    "            actualVertex = heapq.heappop(self.heap)\n",
    "            if actualVertex.visited:\n",
    "                continue\n",
    "            for edge in actualVertex.neighbors:\n",
    "                start = edge.startVertex\n",
    "                target = edge.targetVertex\n",
    "                newDistance = start.minDistance + edge.weight\n",
    "                if newDistance < target.minDistance:\n",
    "                    target.minDistance = newDistance\n",
    "                    target.preDecessor = start\n",
    "\n",
    "                    heapq.heappush(self.heap, target)\n",
    "\n",
    "            actualVertex.visited = True\n",
    "    \n",
    "    def getShortestPath(self, target_vertex: Node) -> None:\n",
    "        print('Target Vertex:\\t', target_vertex.name)\n",
    "        print(\"Distance:\\t\", target_vertex.minDistance)\n",
    "        print(\"Path:\", end = '\\t\\t')\n",
    "        result = []\n",
    "        actualVertex = target_vertex\n",
    "        while actualVertex is not None:\n",
    "            result.append(actualVertex.name)\n",
    "            # print(actualVertex.name, end = ' <- ')\n",
    "            actualVertex = actualVertex.preDecessor\n",
    "        result.reverse()\n",
    "        print(' -> '.join(result))\n"
   ]
  },
  {
   "cell_type": "markdown",
   "metadata": {},
   "source": [
    "# Main\n"
   ]
  },
  {
   "cell_type": "code",
   "execution_count": null,
   "metadata": {},
   "outputs": [],
   "source": [
    "def bfsDict() -> Graph:\n",
    "    customDict = {\n",
    "                    'A': ['B', 'C'],\n",
    "                    'B': ['A', 'C', 'D', 'G'],\n",
    "                    'C': ['A', 'D', 'E'],\n",
    "                    'D': ['B', 'C', 'F'],\n",
    "                    'E': ['C', 'F'],\n",
    "                    'F': ['D', 'E', 'G'],\n",
    "                    'G': ['B', 'F']\n",
    "                }\n",
    "\n",
    "    customGraph = Graph(gdict = customDict)\n",
    "    return customGraph\n",
    "\n",
    "def DGraph() -> list:\n",
    "    nodeA = DNode(name = 'A')\n",
    "    nodeB = DNode(name = 'B')\n",
    "    nodeC = DNode(name = 'C')\n",
    "    nodeD = DNode(name = 'D')\n",
    "    nodeE = DNode(name = 'E')\n",
    "    nodeF = DNode(name = 'F')\n",
    "    nodeG = DNode(name = 'G')\n",
    "    nodeH = DNode(name = 'H')\n",
    "\n",
    "    nodeA.add_edge(weight = 6, destination_vertex = nodeB)\n",
    "    nodeA.add_edge(weight = 10, destination_vertex = nodeC)\n",
    "    nodeA.add_edge(weight = 9, destination_vertex = nodeD)\n",
    "\n",
    "    nodeB.add_edge(weight = 5, destination_vertex = nodeD)\n",
    "    nodeB.add_edge(weight = 16, destination_vertex = nodeE)\n",
    "    nodeB.add_edge(weight = 13, destination_vertex = nodeF)\n",
    "\n",
    "    nodeC.add_edge(weight = 6, destination_vertex = nodeD)\n",
    "    nodeC.add_edge(weight = 21, destination_vertex = nodeG)\n",
    "    nodeC.add_edge(weight = 5, destination_vertex = nodeH)\n",
    "\n",
    "    nodeD.add_edge(weight = 8, destination_vertex = nodeF)\n",
    "    nodeD.add_edge(weight = 7, destination_vertex = nodeH)\n",
    "\n",
    "    nodeE.add_edge(weight = 10, destination_vertex = nodeG)\n",
    "\n",
    "    nodeF.add_edge(weight = 4, destination_vertex = nodeE)\n",
    "    nodeF.add_edge(weight = 12, destination_vertex = nodeG)\n",
    "\n",
    "    nodeH.add_edge(weight = 2, destination_vertex = nodeF)\n",
    "    nodeH.add_edge(weight = 14, destination_vertex = nodeG)\n",
    "\n",
    "    return [nodeA, nodeB, nodeC, nodeD, nodeE, nodeF, nodeG, nodeH]\n",
    "\n",
    "if __name__ == '__main__':\n",
    "    \n",
    "    # customBFS = bfs(graph = customGraph, start = 'A', end = 'D')\n",
    "    \n",
    "    # print(customBFS)\n",
    "\n",
    "    # nodes = DGraph()\n",
    "\n",
    "    # algo = Dijkstra()\n",
    "    # algo.calculate(start_vertex = nodes[0])\n",
    "    # algo.getShortestPath(target_vertex = nodes[6])"
   ]
  }
 ],
 "metadata": {
  "kernelspec": {
   "display_name": "Python 3",
   "language": "python",
   "name": "python3"
  },
  "language_info": {
   "codemirror_mode": {
    "name": "ipython",
    "version": 3
   },
   "file_extension": ".py",
   "mimetype": "text/x-python",
   "name": "python",
   "nbconvert_exporter": "python",
   "pygments_lexer": "ipython3",
   "version": "3.12.2"
  }
 },
 "nbformat": 4,
 "nbformat_minor": 2
}
